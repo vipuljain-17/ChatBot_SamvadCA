{
 "cells": [
  {
   "cell_type": "code",
   "execution_count": 1,
   "metadata": {},
   "outputs": [
    {
     "name": "stderr",
     "output_type": "stream",
     "text": [
      "[nltk_data] Downloading package stopwords to /home/vipul/nltk_data...\n",
      "[nltk_data]   Package stopwords is already up-to-date!\n"
     ]
    }
   ],
   "source": [
    "import numpy as np\n",
    "import pandas as pd\n",
    "\n",
    "import nltk\n",
    "nltk.download(\"stopwords\")\n",
    "\n",
    "data = pd.read_csv(\"questions.tsv\",delimiter='\\t',quoting=3)"
   ]
  },
  {
   "cell_type": "code",
   "execution_count": 2,
   "metadata": {},
   "outputs": [
    {
     "data": {
      "text/plain": [
       "(38, 2)"
      ]
     },
     "execution_count": 2,
     "metadata": {},
     "output_type": "execute_result"
    }
   ],
   "source": [
    "data.shape"
   ]
  },
  {
   "cell_type": "code",
   "execution_count": 3,
   "metadata": {},
   "outputs": [
    {
     "data": {
      "text/html": [
       "<div>\n",
       "<style scoped>\n",
       "    .dataframe tbody tr th:only-of-type {\n",
       "        vertical-align: middle;\n",
       "    }\n",
       "\n",
       "    .dataframe tbody tr th {\n",
       "        vertical-align: top;\n",
       "    }\n",
       "\n",
       "    .dataframe thead th {\n",
       "        text-align: right;\n",
       "    }\n",
       "</style>\n",
       "<table border=\"1\" class=\"dataframe\">\n",
       "  <thead>\n",
       "    <tr style=\"text-align: right;\">\n",
       "      <th></th>\n",
       "      <th>que</th>\n",
       "      <th>label</th>\n",
       "    </tr>\n",
       "  </thead>\n",
       "  <tbody>\n",
       "    <tr>\n",
       "      <th>28</th>\n",
       "      <td>your email id</td>\n",
       "      <td>contact</td>\n",
       "    </tr>\n",
       "    <tr>\n",
       "      <th>29</th>\n",
       "      <td>How can i meet you</td>\n",
       "      <td>contact</td>\n",
       "    </tr>\n",
       "    <tr>\n",
       "      <th>30</th>\n",
       "      <td>Where can i meet you</td>\n",
       "      <td>address</td>\n",
       "    </tr>\n",
       "    <tr>\n",
       "      <th>31</th>\n",
       "      <td>Your address?</td>\n",
       "      <td>address</td>\n",
       "    </tr>\n",
       "    <tr>\n",
       "      <th>32</th>\n",
       "      <td>What's the location of your office</td>\n",
       "      <td>address</td>\n",
       "    </tr>\n",
       "    <tr>\n",
       "      <th>33</th>\n",
       "      <td>Where to meet you?</td>\n",
       "      <td>address</td>\n",
       "    </tr>\n",
       "    <tr>\n",
       "      <th>34</th>\n",
       "      <td>your loaction</td>\n",
       "      <td>address</td>\n",
       "    </tr>\n",
       "    <tr>\n",
       "      <th>35</th>\n",
       "      <td>Hey</td>\n",
       "      <td>greeting</td>\n",
       "    </tr>\n",
       "    <tr>\n",
       "      <th>36</th>\n",
       "      <td>goodbye</td>\n",
       "      <td>goodbye</td>\n",
       "    </tr>\n",
       "    <tr>\n",
       "      <th>37</th>\n",
       "      <td>hy</td>\n",
       "      <td>greeting</td>\n",
       "    </tr>\n",
       "  </tbody>\n",
       "</table>\n",
       "</div>"
      ],
      "text/plain": [
       "                                   que     label\n",
       "28                       your email id   contact\n",
       "29                  How can i meet you   contact\n",
       "30                Where can i meet you   address\n",
       "31                       Your address?   address\n",
       "32  What's the location of your office   address\n",
       "33                  Where to meet you?   address\n",
       "34                       your loaction   address\n",
       "35                                 Hey  greeting\n",
       "36                             goodbye   goodbye\n",
       "37                                  hy  greeting"
      ]
     },
     "execution_count": 3,
     "metadata": {},
     "output_type": "execute_result"
    }
   ],
   "source": [
    "data.tail(10)"
   ]
  },
  {
   "cell_type": "code",
   "execution_count": 4,
   "metadata": {},
   "outputs": [],
   "source": [
    "from sklearn.utils import shuffle\n",
    "data = shuffle(data)\n",
    "data.reset_index(drop=True,inplace=True)"
   ]
  },
  {
   "cell_type": "code",
   "execution_count": 5,
   "metadata": {},
   "outputs": [
    {
     "data": {
      "text/html": [
       "<div>\n",
       "<style scoped>\n",
       "    .dataframe tbody tr th:only-of-type {\n",
       "        vertical-align: middle;\n",
       "    }\n",
       "\n",
       "    .dataframe tbody tr th {\n",
       "        vertical-align: top;\n",
       "    }\n",
       "\n",
       "    .dataframe thead th {\n",
       "        text-align: right;\n",
       "    }\n",
       "</style>\n",
       "<table border=\"1\" class=\"dataframe\">\n",
       "  <thead>\n",
       "    <tr style=\"text-align: right;\">\n",
       "      <th></th>\n",
       "      <th>que</th>\n",
       "      <th>label</th>\n",
       "    </tr>\n",
       "  </thead>\n",
       "  <tbody>\n",
       "    <tr>\n",
       "      <th>0</th>\n",
       "      <td>what is your name</td>\n",
       "      <td>name</td>\n",
       "    </tr>\n",
       "    <tr>\n",
       "      <th>1</th>\n",
       "      <td>Hey</td>\n",
       "      <td>greeting</td>\n",
       "    </tr>\n",
       "    <tr>\n",
       "      <th>2</th>\n",
       "      <td>What services does your firm provide?</td>\n",
       "      <td>services</td>\n",
       "    </tr>\n",
       "    <tr>\n",
       "      <th>3</th>\n",
       "      <td>cya</td>\n",
       "      <td>goodbye</td>\n",
       "    </tr>\n",
       "    <tr>\n",
       "      <th>4</th>\n",
       "      <td>what are your services?</td>\n",
       "      <td>services</td>\n",
       "    </tr>\n",
       "  </tbody>\n",
       "</table>\n",
       "</div>"
      ],
      "text/plain": [
       "                                     que     label\n",
       "0                      what is your name      name\n",
       "1                                    Hey  greeting\n",
       "2  What services does your firm provide?  services\n",
       "3                                    cya   goodbye\n",
       "4                what are your services?  services"
      ]
     },
     "execution_count": 5,
     "metadata": {},
     "output_type": "execute_result"
    }
   ],
   "source": [
    "data.head()"
   ]
  },
  {
   "cell_type": "code",
   "execution_count": 6,
   "metadata": {},
   "outputs": [],
   "source": [
    "import re"
   ]
  },
  {
   "cell_type": "code",
   "execution_count": 7,
   "metadata": {},
   "outputs": [
    {
     "data": {
      "text/plain": [
       "'Is anyone there?'"
      ]
     },
     "execution_count": 7,
     "metadata": {},
     "output_type": "execute_result"
    }
   ],
   "source": [
    "data['que'][15]"
   ]
  },
  {
   "cell_type": "code",
   "execution_count": 8,
   "metadata": {},
   "outputs": [],
   "source": [
    "que = re.sub('[^a-zA-Z]', ' ', data['que'][15])"
   ]
  },
  {
   "cell_type": "code",
   "execution_count": 9,
   "metadata": {},
   "outputs": [
    {
     "data": {
      "text/plain": [
       "'Is anyone there '"
      ]
     },
     "execution_count": 9,
     "metadata": {},
     "output_type": "execute_result"
    }
   ],
   "source": [
    "que"
   ]
  },
  {
   "cell_type": "code",
   "execution_count": 10,
   "metadata": {},
   "outputs": [],
   "source": [
    "que = que.lower().split()"
   ]
  },
  {
   "cell_type": "code",
   "execution_count": 11,
   "metadata": {},
   "outputs": [
    {
     "data": {
      "text/plain": [
       "['is', 'anyone', 'there']"
      ]
     },
     "execution_count": 11,
     "metadata": {},
     "output_type": "execute_result"
    }
   ],
   "source": [
    "que"
   ]
  },
  {
   "cell_type": "code",
   "execution_count": 12,
   "metadata": {},
   "outputs": [],
   "source": [
    "from nltk.stem.porter import PorterStemmer\n",
    "ps = PorterStemmer()"
   ]
  },
  {
   "cell_type": "code",
   "execution_count": 13,
   "metadata": {},
   "outputs": [],
   "source": [
    "from nltk.corpus import stopwords"
   ]
  },
  {
   "cell_type": "code",
   "execution_count": 14,
   "metadata": {},
   "outputs": [],
   "source": [
    "que = [ps.stem(word) for word in que if not word in set(stopwords.words('english'))]"
   ]
  },
  {
   "cell_type": "code",
   "execution_count": 15,
   "metadata": {},
   "outputs": [
    {
     "data": {
      "text/plain": [
       "['anyon']"
      ]
     },
     "execution_count": 15,
     "metadata": {},
     "output_type": "execute_result"
    }
   ],
   "source": [
    "que"
   ]
  },
  {
   "cell_type": "code",
   "execution_count": 21,
   "metadata": {},
   "outputs": [
    {
     "data": {
      "text/plain": [
       "38"
      ]
     },
     "execution_count": 21,
     "metadata": {},
     "output_type": "execute_result"
    }
   ],
   "source": [
    "data.shape[0]"
   ]
  },
  {
   "cell_type": "code",
   "execution_count": 22,
   "metadata": {},
   "outputs": [],
   "source": [
    "corpus = list()\n",
    "for i in range(0, data.shape[0]):\n",
    "    que = re.sub('[^a-zA-Z]', ' ', data['que'][i])\n",
    "    que = que.lower().split()\n",
    "    que = [ps.stem(word) for word in que if not word in set(stopwords.words('english'))]\n",
    "    que = ' '.join(que)\n",
    "    corpus.append(que)"
   ]
  },
  {
   "cell_type": "code",
   "execution_count": 23,
   "metadata": {},
   "outputs": [
    {
     "data": {
      "text/plain": [
       "38"
      ]
     },
     "execution_count": 23,
     "metadata": {},
     "output_type": "execute_result"
    }
   ],
   "source": [
    "len(corpus)"
   ]
  },
  {
   "cell_type": "code",
   "execution_count": 24,
   "metadata": {},
   "outputs": [
    {
     "data": {
      "text/plain": [
       "['name',\n",
       " 'hey',\n",
       " 'servic firm provid',\n",
       " 'cya',\n",
       " 'servic',\n",
       " 'time avail',\n",
       " 'good day',\n",
       " 'loaction',\n",
       " '',\n",
       " 'email id',\n",
       " 'hour oper',\n",
       " 'bye',\n",
       " 'offic time',\n",
       " 'good day',\n",
       " 'leav',\n",
       " 'anyon',\n",
       " 'time oper',\n",
       " 'meet',\n",
       " 'hi',\n",
       " 'hy',\n",
       " 'provid',\n",
       " 'locat offic',\n",
       " 'mobil number',\n",
       " 'guy open',\n",
       " 'call',\n",
       " 'see later',\n",
       " 'name',\n",
       " 'meet',\n",
       " 'address',\n",
       " 'meet',\n",
       " 'what',\n",
       " 'may contact',\n",
       " '',\n",
       " 'work time',\n",
       " 'hour',\n",
       " 'goodby',\n",
       " 'phone number',\n",
       " 'hello']"
      ]
     },
     "execution_count": 24,
     "metadata": {},
     "output_type": "execute_result"
    }
   ],
   "source": [
    "corpus"
   ]
  },
  {
   "cell_type": "code",
   "execution_count": 25,
   "metadata": {},
   "outputs": [],
   "source": [
    "from sklearn.feature_extraction.text import TfidfVectorizer\n",
    "cv = TfidfVectorizer()\n",
    "X = cv.fit_transform(corpus).toarray()\n",
    "y = data.iloc[:, 1].values"
   ]
  },
  {
   "cell_type": "code",
   "execution_count": 26,
   "metadata": {},
   "outputs": [
    {
     "data": {
      "text/plain": [
       "(38, 38)"
      ]
     },
     "execution_count": 26,
     "metadata": {},
     "output_type": "execute_result"
    }
   ],
   "source": [
    "X.shape"
   ]
  },
  {
   "cell_type": "code",
   "execution_count": 27,
   "metadata": {},
   "outputs": [
    {
     "data": {
      "text/plain": [
       "MultinomialNB(alpha=1.0, class_prior=None, fit_prior=True)"
      ]
     },
     "execution_count": 27,
     "metadata": {},
     "output_type": "execute_result"
    }
   ],
   "source": [
    "from sklearn.naive_bayes import MultinomialNB\n",
    "classifier = MultinomialNB()\n",
    "classifier.fit(X, y)"
   ]
  },
  {
   "cell_type": "code",
   "execution_count": 28,
   "metadata": {},
   "outputs": [
    {
     "name": "stdout",
     "output_type": "stream",
     "text": [
      "['greeting']\n"
     ]
    }
   ],
   "source": [
    "s = \"how are you?\"\n",
    "que = re.sub('[^a-zA-Z]', ' ', s)\n",
    "que = que.lower().split()\n",
    "que = [ps.stem(word) for word in que if not word in set(stopwords.words('english'))]\n",
    "que = ' '.join(que)\n",
    "test = cv.transform([que]).toarray()\n",
    "ans = classifier.predict(test)\n",
    "print(ans)"
   ]
  },
  {
   "cell_type": "code",
   "execution_count": 29,
   "metadata": {},
   "outputs": [],
   "source": [
    "import json\n",
    "\n",
    "with open('response.json') as f:\n",
    "    responses = json.load(f)"
   ]
  },
  {
   "cell_type": "code",
   "execution_count": 30,
   "metadata": {},
   "outputs": [
    {
     "name": "stdout",
     "output_type": "stream",
     "text": [
      "Hello!\n"
     ]
    }
   ],
   "source": [
    "import random\n",
    "for item in responses['respones']:\n",
    "    if item['tag'] == 'greeting':\n",
    "        l = random.randint(0,(len(item['responses'])-1))\n",
    "        print(item['responses'][l])"
   ]
  },
  {
   "cell_type": "code",
   "execution_count": 31,
   "metadata": {},
   "outputs": [],
   "source": [
    "def create_response_sci(que):\n",
    "    if que == \"quit\":\n",
    "        print(\"Bye see you soon\")\n",
    "        return False\n",
    "    que = re.sub('[^a-zA-Z]', ' ', que)\n",
    "    que = que.lower().split()\n",
    "    que = [ps.stem(word) for word in que if not word in set(stopwords.words('english'))]\n",
    "    que = ' '.join(que)\n",
    "    test = cv.transform([que]).toarray()\n",
    "    ans = classifier.predict(test)\n",
    "    print(\"samvadCAbot--> \",end=\" \")\n",
    "    a = False\n",
    "    for item in responses['respones']:\n",
    "        if item['tag'] == ans:\n",
    "            l = random.randint(0,(len(item['responses'])-1))\n",
    "            a = True\n",
    "            print(item['responses'][l])\n",
    "    if not a:\n",
    "        print(\"Sorry couldn't get you,please repeat\")\n",
    "        \n",
    "    return True"
   ]
  },
  {
   "cell_type": "code",
   "execution_count": 32,
   "metadata": {},
   "outputs": [
    {
     "name": "stdout",
     "output_type": "stream",
     "text": [
      "samvadCAbot-->  Our office is loacted at https://tinyurl.com/samvadcaAddress \n",
      " (Or) Contact us at samvadca@gmail.com\n"
     ]
    },
    {
     "data": {
      "text/plain": [
       "True"
      ]
     },
     "execution_count": 32,
     "metadata": {},
     "output_type": "execute_result"
    }
   ],
   "source": [
    "a = \"Where can i meet you\"\n",
    "create_response_sci(a)"
   ]
  },
  {
   "cell_type": "code",
   "execution_count": 36,
   "metadata": {},
   "outputs": [],
   "source": [
    "def chat_sci():\n",
    "    a = True\n",
    "    print(\"samvadCAbot--> Hello there!How can I help you\")\n",
    "    while a:\n",
    "        inp = input(\"Enter (type quit to exit)\")\n",
    "        a = create_response_sci(inp)"
   ]
  },
  {
   "cell_type": "code",
   "execution_count": 37,
   "metadata": {},
   "outputs": [
    {
     "name": "stdout",
     "output_type": "stream",
     "text": [
      "samvadCAbot--> Hello there!How can I help you\n",
      "Enter (type quit to exit)Hello\n",
      "samvadCAbot-->  Hi there, how can I help?\n",
      "Enter (type quit to exit)How are you\n",
      "samvadCAbot-->  Hello!\n",
      "Enter (type quit to exit)how are you\n",
      "samvadCAbot-->  Hi there, how can I help?\n",
      "Enter (type quit to exit)Is anyone up there\n",
      "samvadCAbot-->  Hello!\n",
      "Enter (type quit to exit)quit\n",
      "Bye see you soon\n"
     ]
    }
   ],
   "source": [
    "chat_sci()"
   ]
  },
  {
   "cell_type": "markdown",
   "metadata": {},
   "source": [
    "<h3>Now using the keras classifier for better classification</h3> \n",
    "    <p>I will be using Keras Sequential model</p>"
   ]
  },
  {
   "cell_type": "code",
   "execution_count": 38,
   "metadata": {},
   "outputs": [
    {
     "name": "stderr",
     "output_type": "stream",
     "text": [
      "Using TensorFlow backend.\n"
     ]
    }
   ],
   "source": [
    "import keras\n",
    "from keras.models import Sequential\n",
    "from keras.layers import Dense"
   ]
  },
  {
   "cell_type": "code",
   "execution_count": 39,
   "metadata": {},
   "outputs": [
    {
     "data": {
      "text/plain": [
       "7"
      ]
     },
     "execution_count": 39,
     "metadata": {},
     "output_type": "execute_result"
    }
   ],
   "source": [
    "data.label.nunique()"
   ]
  },
  {
   "cell_type": "code",
   "execution_count": 40,
   "metadata": {},
   "outputs": [],
   "source": [
    "from sklearn.preprocessing import LabelEncoder\n",
    "lb_y = LabelEncoder()\n",
    "Y = lb_y.fit_transform(y)"
   ]
  },
  {
   "cell_type": "code",
   "execution_count": 41,
   "metadata": {},
   "outputs": [],
   "source": [
    "y_ohe = keras.utils.np_utils.to_categorical(Y,num_classes=7)"
   ]
  },
  {
   "cell_type": "code",
   "execution_count": 46,
   "metadata": {},
   "outputs": [],
   "source": [
    "classifier_nn = Sequential()"
   ]
  },
  {
   "cell_type": "code",
   "execution_count": 47,
   "metadata": {},
   "outputs": [],
   "source": [
    "classifier_nn.add(Dense(21,kernel_initializer=\"uniform\",activation=\"relu\",input_dim=X.shape[1]))\n",
    "classifier_nn.add(Dense(14, kernel_initializer = 'uniform', activation = 'relu'))\n",
    "classifier_nn.add(Dense(units = 7, kernel_initializer = 'uniform', activation = 'softmax'))"
   ]
  },
  {
   "cell_type": "code",
   "execution_count": 48,
   "metadata": {},
   "outputs": [],
   "source": [
    "classifier_nn.compile(optimizer = 'adam', loss = 'categorical_crossentropy', metrics = ['accuracy'])"
   ]
  },
  {
   "cell_type": "code",
   "execution_count": 49,
   "metadata": {},
   "outputs": [
    {
     "name": "stdout",
     "output_type": "stream",
     "text": [
      "Epoch 1/500\n",
      "38/38 [==============================] - 0s 2ms/step - loss: 1.9461 - accuracy: 0.1579\n",
      "Epoch 2/500\n",
      "38/38 [==============================] - 0s 103us/step - loss: 1.9455 - accuracy: 0.1842\n",
      "Epoch 3/500\n",
      "38/38 [==============================] - 0s 105us/step - loss: 1.9450 - accuracy: 0.1842\n",
      "Epoch 4/500\n",
      "38/38 [==============================] - 0s 180us/step - loss: 1.9446 - accuracy: 0.2105\n",
      "Epoch 5/500\n",
      "38/38 [==============================] - 0s 238us/step - loss: 1.9441 - accuracy: 0.3684\n",
      "Epoch 6/500\n",
      "38/38 [==============================] - 0s 136us/step - loss: 1.9436 - accuracy: 0.3947\n",
      "Epoch 7/500\n",
      "38/38 [==============================] - 0s 325us/step - loss: 1.9432 - accuracy: 0.3684\n",
      "Epoch 8/500\n",
      "38/38 [==============================] - 0s 299us/step - loss: 1.9425 - accuracy: 0.3684\n",
      "Epoch 9/500\n",
      "38/38 [==============================] - 0s 292us/step - loss: 1.9420 - accuracy: 0.3684\n",
      "Epoch 10/500\n",
      "38/38 [==============================] - 0s 161us/step - loss: 1.9412 - accuracy: 0.3684\n",
      "Epoch 11/500\n",
      "38/38 [==============================] - 0s 311us/step - loss: 1.9405 - accuracy: 0.3684\n",
      "Epoch 12/500\n",
      "38/38 [==============================] - 0s 247us/step - loss: 1.9399 - accuracy: 0.3684\n",
      "Epoch 13/500\n",
      "38/38 [==============================] - 0s 328us/step - loss: 1.9388 - accuracy: 0.3684\n",
      "Epoch 14/500\n",
      "38/38 [==============================] - 0s 161us/step - loss: 1.9380 - accuracy: 0.3947\n",
      "Epoch 15/500\n",
      "38/38 [==============================] - 0s 168us/step - loss: 1.9368 - accuracy: 0.3947\n",
      "Epoch 16/500\n",
      "38/38 [==============================] - 0s 211us/step - loss: 1.9355 - accuracy: 0.3947\n",
      "Epoch 17/500\n",
      "38/38 [==============================] - 0s 132us/step - loss: 1.9343 - accuracy: 0.3947\n",
      "Epoch 18/500\n",
      "38/38 [==============================] - 0s 131us/step - loss: 1.9325 - accuracy: 0.3947\n",
      "Epoch 19/500\n",
      "38/38 [==============================] - 0s 185us/step - loss: 1.9308 - accuracy: 0.3947\n",
      "Epoch 20/500\n",
      "38/38 [==============================] - 0s 205us/step - loss: 1.9288 - accuracy: 0.3947\n",
      "Epoch 21/500\n",
      "38/38 [==============================] - 0s 136us/step - loss: 1.9264 - accuracy: 0.3684\n",
      "Epoch 22/500\n",
      "38/38 [==============================] - 0s 194us/step - loss: 1.9236 - accuracy: 0.3684\n",
      "Epoch 23/500\n",
      "38/38 [==============================] - 0s 199us/step - loss: 1.9212 - accuracy: 0.3684\n",
      "Epoch 24/500\n",
      "38/38 [==============================] - 0s 280us/step - loss: 1.9176 - accuracy: 0.3684\n",
      "Epoch 25/500\n",
      "38/38 [==============================] - 0s 168us/step - loss: 1.9144 - accuracy: 0.3684\n",
      "Epoch 26/500\n",
      "38/38 [==============================] - 0s 230us/step - loss: 1.9104 - accuracy: 0.3684\n",
      "Epoch 27/500\n",
      "38/38 [==============================] - 0s 235us/step - loss: 1.9059 - accuracy: 0.3684\n",
      "Epoch 28/500\n",
      "38/38 [==============================] - 0s 230us/step - loss: 1.9019 - accuracy: 0.3684\n",
      "Epoch 29/500\n",
      "38/38 [==============================] - 0s 159us/step - loss: 1.8962 - accuracy: 0.3684\n",
      "Epoch 30/500\n",
      "38/38 [==============================] - 0s 133us/step - loss: 1.8906 - accuracy: 0.3684\n",
      "Epoch 31/500\n",
      "38/38 [==============================] - 0s 136us/step - loss: 1.8848 - accuracy: 0.3684\n",
      "Epoch 32/500\n",
      "38/38 [==============================] - 0s 224us/step - loss: 1.8777 - accuracy: 0.3684\n",
      "Epoch 33/500\n",
      "38/38 [==============================] - 0s 193us/step - loss: 1.8704 - accuracy: 0.3684\n",
      "Epoch 34/500\n",
      "38/38 [==============================] - 0s 191us/step - loss: 1.8617 - accuracy: 0.3684\n",
      "Epoch 35/500\n",
      "38/38 [==============================] - 0s 171us/step - loss: 1.8528 - accuracy: 0.3684\n",
      "Epoch 36/500\n",
      "38/38 [==============================] - 0s 254us/step - loss: 1.8428 - accuracy: 0.3684\n",
      "Epoch 37/500\n",
      "38/38 [==============================] - 0s 287us/step - loss: 1.8323 - accuracy: 0.3684\n",
      "Epoch 38/500\n",
      "38/38 [==============================] - 0s 253us/step - loss: 1.8205 - accuracy: 0.3684\n",
      "Epoch 39/500\n",
      "38/38 [==============================] - 0s 226us/step - loss: 1.8081 - accuracy: 0.3684\n",
      "Epoch 40/500\n",
      "38/38 [==============================] - 0s 151us/step - loss: 1.7949 - accuracy: 0.3684\n",
      "Epoch 41/500\n",
      "38/38 [==============================] - 0s 197us/step - loss: 1.7810 - accuracy: 0.3684\n",
      "Epoch 42/500\n",
      "38/38 [==============================] - 0s 263us/step - loss: 1.7661 - accuracy: 0.3684\n",
      "Epoch 43/500\n",
      "38/38 [==============================] - 0s 314us/step - loss: 1.7508 - accuracy: 0.3684\n",
      "Epoch 44/500\n",
      "38/38 [==============================] - 0s 183us/step - loss: 1.7365 - accuracy: 0.3684\n",
      "Epoch 45/500\n",
      "38/38 [==============================] - ETA: 0s - loss: 1.7334 - accuracy: 0.50 - 0s 251us/step - loss: 1.7198 - accuracy: 0.3684\n",
      "Epoch 46/500\n",
      "38/38 [==============================] - 0s 194us/step - loss: 1.7032 - accuracy: 0.3684\n",
      "Epoch 47/500\n",
      "38/38 [==============================] - 0s 190us/step - loss: 1.6860 - accuracy: 0.3684\n",
      "Epoch 48/500\n",
      "38/38 [==============================] - 0s 179us/step - loss: 1.6689 - accuracy: 0.3684\n",
      "Epoch 49/500\n",
      "38/38 [==============================] - 0s 226us/step - loss: 1.6517 - accuracy: 0.3684\n",
      "Epoch 50/500\n",
      "38/38 [==============================] - 0s 239us/step - loss: 1.6342 - accuracy: 0.3684\n",
      "Epoch 51/500\n",
      "38/38 [==============================] - 0s 188us/step - loss: 1.6154 - accuracy: 0.3684\n",
      "Epoch 52/500\n",
      "38/38 [==============================] - 0s 169us/step - loss: 1.5975 - accuracy: 0.3684\n",
      "Epoch 53/500\n",
      "38/38 [==============================] - 0s 135us/step - loss: 1.5806 - accuracy: 0.3684\n",
      "Epoch 54/500\n",
      "38/38 [==============================] - 0s 283us/step - loss: 1.5622 - accuracy: 0.3684\n",
      "Epoch 55/500\n",
      "38/38 [==============================] - 0s 140us/step - loss: 1.5434 - accuracy: 0.3684\n",
      "Epoch 56/500\n",
      "38/38 [==============================] - 0s 251us/step - loss: 1.5266 - accuracy: 0.3684\n",
      "Epoch 57/500\n",
      "38/38 [==============================] - 0s 192us/step - loss: 1.5091 - accuracy: 0.3684\n",
      "Epoch 58/500\n",
      "38/38 [==============================] - 0s 163us/step - loss: 1.4920 - accuracy: 0.3684\n",
      "Epoch 59/500\n",
      "38/38 [==============================] - 0s 188us/step - loss: 1.4744 - accuracy: 0.3684\n",
      "Epoch 60/500\n",
      "38/38 [==============================] - 0s 113us/step - loss: 1.4579 - accuracy: 0.3684\n",
      "Epoch 61/500\n",
      "38/38 [==============================] - 0s 294us/step - loss: 1.4415 - accuracy: 0.3684\n",
      "Epoch 62/500\n",
      "38/38 [==============================] - 0s 195us/step - loss: 1.4246 - accuracy: 0.3684\n",
      "Epoch 63/500\n",
      "38/38 [==============================] - 0s 275us/step - loss: 1.4092 - accuracy: 0.3684\n",
      "Epoch 64/500\n",
      "38/38 [==============================] - 0s 157us/step - loss: 1.3926 - accuracy: 0.3684\n",
      "Epoch 65/500\n",
      "38/38 [==============================] - 0s 197us/step - loss: 1.3764 - accuracy: 0.3684\n",
      "Epoch 66/500\n",
      "38/38 [==============================] - 0s 141us/step - loss: 1.3618 - accuracy: 0.3684\n",
      "Epoch 67/500\n",
      "38/38 [==============================] - 0s 242us/step - loss: 1.3458 - accuracy: 0.3684\n",
      "Epoch 68/500\n",
      "38/38 [==============================] - 0s 154us/step - loss: 1.3312 - accuracy: 0.3947\n",
      "Epoch 69/500\n",
      "38/38 [==============================] - 0s 218us/step - loss: 1.3159 - accuracy: 0.3947\n",
      "Epoch 70/500\n",
      "38/38 [==============================] - 0s 291us/step - loss: 1.3007 - accuracy: 0.3947\n",
      "Epoch 71/500\n",
      "38/38 [==============================] - 0s 191us/step - loss: 1.2869 - accuracy: 0.4211\n",
      "Epoch 72/500\n",
      "38/38 [==============================] - 0s 240us/step - loss: 1.2727 - accuracy: 0.4211\n",
      "Epoch 73/500\n",
      "38/38 [==============================] - 0s 186us/step - loss: 1.2585 - accuracy: 0.4474\n",
      "Epoch 74/500\n",
      "38/38 [==============================] - 0s 175us/step - loss: 1.2439 - accuracy: 0.4737\n",
      "Epoch 75/500\n",
      "38/38 [==============================] - 0s 227us/step - loss: 1.2303 - accuracy: 0.5263\n",
      "Epoch 76/500\n",
      "38/38 [==============================] - 0s 207us/step - loss: 1.2169 - accuracy: 0.5263\n",
      "Epoch 77/500\n",
      "38/38 [==============================] - 0s 173us/step - loss: 1.2040 - accuracy: 0.5263\n",
      "Epoch 78/500\n",
      "38/38 [==============================] - 0s 147us/step - loss: 1.1903 - accuracy: 0.5263\n",
      "Epoch 79/500\n",
      "38/38 [==============================] - 0s 252us/step - loss: 1.1780 - accuracy: 0.5263\n",
      "Epoch 80/500\n",
      "38/38 [==============================] - 0s 188us/step - loss: 1.1653 - accuracy: 0.5263\n",
      "Epoch 81/500\n"
     ]
    },
    {
     "name": "stdout",
     "output_type": "stream",
     "text": [
      "38/38 [==============================] - 0s 178us/step - loss: 1.1533 - accuracy: 0.5263\n",
      "Epoch 82/500\n",
      "38/38 [==============================] - 0s 260us/step - loss: 1.1412 - accuracy: 0.5526\n",
      "Epoch 83/500\n",
      "38/38 [==============================] - 0s 214us/step - loss: 1.1286 - accuracy: 0.5789\n",
      "Epoch 84/500\n",
      "38/38 [==============================] - 0s 242us/step - loss: 1.1163 - accuracy: 0.5789\n",
      "Epoch 85/500\n",
      "38/38 [==============================] - 0s 233us/step - loss: 1.1044 - accuracy: 0.5789\n",
      "Epoch 86/500\n",
      "38/38 [==============================] - 0s 274us/step - loss: 1.0926 - accuracy: 0.5789\n",
      "Epoch 87/500\n",
      "38/38 [==============================] - 0s 177us/step - loss: 1.0800 - accuracy: 0.6053\n",
      "Epoch 88/500\n",
      "38/38 [==============================] - 0s 237us/step - loss: 1.0681 - accuracy: 0.6053\n",
      "Epoch 89/500\n",
      "38/38 [==============================] - 0s 296us/step - loss: 1.0557 - accuracy: 0.6579\n",
      "Epoch 90/500\n",
      "38/38 [==============================] - 0s 285us/step - loss: 1.0433 - accuracy: 0.6579\n",
      "Epoch 91/500\n",
      "38/38 [==============================] - 0s 194us/step - loss: 1.0315 - accuracy: 0.6579\n",
      "Epoch 92/500\n",
      "38/38 [==============================] - 0s 198us/step - loss: 1.0186 - accuracy: 0.6579\n",
      "Epoch 93/500\n",
      "38/38 [==============================] - 0s 290us/step - loss: 1.0071 - accuracy: 0.6579\n",
      "Epoch 94/500\n",
      "38/38 [==============================] - 0s 213us/step - loss: 0.9956 - accuracy: 0.6842\n",
      "Epoch 95/500\n",
      "38/38 [==============================] - 0s 205us/step - loss: 0.9854 - accuracy: 0.7105\n",
      "Epoch 96/500\n",
      "38/38 [==============================] - 0s 251us/step - loss: 0.9735 - accuracy: 0.7105\n",
      "Epoch 97/500\n",
      "38/38 [==============================] - 0s 380us/step - loss: 0.9615 - accuracy: 0.7368\n",
      "Epoch 98/500\n",
      "38/38 [==============================] - 0s 279us/step - loss: 0.9505 - accuracy: 0.7368\n",
      "Epoch 99/500\n",
      "38/38 [==============================] - 0s 177us/step - loss: 0.9399 - accuracy: 0.7368\n",
      "Epoch 100/500\n",
      "38/38 [==============================] - 0s 242us/step - loss: 0.9289 - accuracy: 0.7368\n",
      "Epoch 101/500\n",
      "38/38 [==============================] - 0s 265us/step - loss: 0.9191 - accuracy: 0.7368\n",
      "Epoch 102/500\n",
      "38/38 [==============================] - 0s 197us/step - loss: 0.9083 - accuracy: 0.7368\n",
      "Epoch 103/500\n",
      "38/38 [==============================] - 0s 190us/step - loss: 0.8979 - accuracy: 0.7368\n",
      "Epoch 104/500\n",
      "38/38 [==============================] - 0s 242us/step - loss: 0.8878 - accuracy: 0.7368\n",
      "Epoch 105/500\n",
      "38/38 [==============================] - 0s 163us/step - loss: 0.8773 - accuracy: 0.7368\n",
      "Epoch 106/500\n",
      "38/38 [==============================] - 0s 225us/step - loss: 0.8670 - accuracy: 0.7368\n",
      "Epoch 107/500\n",
      "38/38 [==============================] - 0s 259us/step - loss: 0.8573 - accuracy: 0.7368\n",
      "Epoch 108/500\n",
      "38/38 [==============================] - 0s 158us/step - loss: 0.8475 - accuracy: 0.7368\n",
      "Epoch 109/500\n",
      "38/38 [==============================] - 0s 185us/step - loss: 0.8371 - accuracy: 0.7368\n",
      "Epoch 110/500\n",
      "38/38 [==============================] - 0s 221us/step - loss: 0.8272 - accuracy: 0.7368\n",
      "Epoch 111/500\n",
      "38/38 [==============================] - 0s 153us/step - loss: 0.8179 - accuracy: 0.7368\n",
      "Epoch 112/500\n",
      "38/38 [==============================] - 0s 249us/step - loss: 0.8091 - accuracy: 0.7368\n",
      "Epoch 113/500\n",
      "38/38 [==============================] - 0s 138us/step - loss: 0.7996 - accuracy: 0.7368\n",
      "Epoch 114/500\n",
      "38/38 [==============================] - 0s 221us/step - loss: 0.7903 - accuracy: 0.7368\n",
      "Epoch 115/500\n",
      "38/38 [==============================] - 0s 144us/step - loss: 0.7815 - accuracy: 0.7368\n",
      "Epoch 116/500\n",
      "38/38 [==============================] - 0s 170us/step - loss: 0.7729 - accuracy: 0.7368\n",
      "Epoch 117/500\n",
      "38/38 [==============================] - 0s 278us/step - loss: 0.7639 - accuracy: 0.7368\n",
      "Epoch 118/500\n",
      "38/38 [==============================] - 0s 159us/step - loss: 0.7554 - accuracy: 0.7368\n",
      "Epoch 119/500\n",
      "38/38 [==============================] - 0s 223us/step - loss: 0.7481 - accuracy: 0.7368\n",
      "Epoch 120/500\n",
      "38/38 [==============================] - 0s 210us/step - loss: 0.7402 - accuracy: 0.7368\n",
      "Epoch 121/500\n",
      "38/38 [==============================] - 0s 167us/step - loss: 0.7327 - accuracy: 0.7368\n",
      "Epoch 122/500\n",
      "38/38 [==============================] - 0s 242us/step - loss: 0.7258 - accuracy: 0.7368\n",
      "Epoch 123/500\n",
      "38/38 [==============================] - 0s 143us/step - loss: 0.7183 - accuracy: 0.7368\n",
      "Epoch 124/500\n",
      "38/38 [==============================] - 0s 210us/step - loss: 0.7108 - accuracy: 0.7105\n",
      "Epoch 125/500\n",
      "38/38 [==============================] - ETA: 0s - loss: 0.7374 - accuracy: 0.81 - 0s 224us/step - loss: 0.7033 - accuracy: 0.7368\n",
      "Epoch 126/500\n",
      "38/38 [==============================] - 0s 157us/step - loss: 0.6960 - accuracy: 0.7368\n",
      "Epoch 127/500\n",
      "38/38 [==============================] - 0s 265us/step - loss: 0.6889 - accuracy: 0.7368\n",
      "Epoch 128/500\n",
      "38/38 [==============================] - 0s 198us/step - loss: 0.6814 - accuracy: 0.7368\n",
      "Epoch 129/500\n",
      "38/38 [==============================] - 0s 159us/step - loss: 0.6738 - accuracy: 0.7368\n",
      "Epoch 130/500\n",
      "38/38 [==============================] - 0s 242us/step - loss: 0.6676 - accuracy: 0.7368\n",
      "Epoch 131/500\n",
      "38/38 [==============================] - 0s 144us/step - loss: 0.6603 - accuracy: 0.7368\n",
      "Epoch 132/500\n",
      "38/38 [==============================] - 0s 263us/step - loss: 0.6538 - accuracy: 0.7368\n",
      "Epoch 133/500\n",
      "38/38 [==============================] - 0s 134us/step - loss: 0.6471 - accuracy: 0.7368\n",
      "Epoch 134/500\n",
      "38/38 [==============================] - 0s 194us/step - loss: 0.6412 - accuracy: 0.7368\n",
      "Epoch 135/500\n",
      "38/38 [==============================] - 0s 244us/step - loss: 0.6347 - accuracy: 0.7368\n",
      "Epoch 136/500\n",
      "38/38 [==============================] - 0s 151us/step - loss: 0.6281 - accuracy: 0.7368\n",
      "Epoch 137/500\n",
      "38/38 [==============================] - 0s 275us/step - loss: 0.6222 - accuracy: 0.7368\n",
      "Epoch 138/500\n",
      "38/38 [==============================] - 0s 211us/step - loss: 0.6166 - accuracy: 0.7368\n",
      "Epoch 139/500\n",
      "38/38 [==============================] - 0s 191us/step - loss: 0.6105 - accuracy: 0.7368\n",
      "Epoch 140/500\n",
      "38/38 [==============================] - 0s 234us/step - loss: 0.6056 - accuracy: 0.7368\n",
      "Epoch 141/500\n",
      "38/38 [==============================] - 0s 136us/step - loss: 0.5995 - accuracy: 0.7368\n",
      "Epoch 142/500\n",
      "38/38 [==============================] - 0s 244us/step - loss: 0.5940 - accuracy: 0.7368\n",
      "Epoch 143/500\n",
      "38/38 [==============================] - 0s 198us/step - loss: 0.5884 - accuracy: 0.7368\n",
      "Epoch 144/500\n",
      "38/38 [==============================] - 0s 164us/step - loss: 0.5832 - accuracy: 0.7368\n",
      "Epoch 145/500\n",
      "38/38 [==============================] - 0s 226us/step - loss: 0.5779 - accuracy: 0.7368\n",
      "Epoch 146/500\n",
      "38/38 [==============================] - ETA: 0s - loss: 0.6421 - accuracy: 0.68 - 0s 155us/step - loss: 0.5727 - accuracy: 0.7368\n",
      "Epoch 147/500\n",
      "38/38 [==============================] - 0s 214us/step - loss: 0.5678 - accuracy: 0.7368\n",
      "Epoch 148/500\n",
      "38/38 [==============================] - 0s 236us/step - loss: 0.5632 - accuracy: 0.7368\n",
      "Epoch 149/500\n",
      "38/38 [==============================] - 0s 136us/step - loss: 0.5575 - accuracy: 0.7368\n",
      "Epoch 150/500\n",
      "38/38 [==============================] - 0s 265us/step - loss: 0.5527 - accuracy: 0.7368\n",
      "Epoch 151/500\n",
      "38/38 [==============================] - 0s 261us/step - loss: 0.5476 - accuracy: 0.7368\n",
      "Epoch 152/500\n",
      "38/38 [==============================] - 0s 136us/step - loss: 0.5430 - accuracy: 0.7368\n",
      "Epoch 153/500\n",
      "38/38 [==============================] - 0s 305us/step - loss: 0.5383 - accuracy: 0.7368\n",
      "Epoch 154/500\n",
      "38/38 [==============================] - 0s 268us/step - loss: 0.5332 - accuracy: 0.7895\n",
      "Epoch 155/500\n",
      "38/38 [==============================] - 0s 165us/step - loss: 0.5299 - accuracy: 0.7895\n",
      "Epoch 156/500\n",
      "38/38 [==============================] - 0s 227us/step - loss: 0.5254 - accuracy: 0.7895\n",
      "Epoch 157/500\n",
      "38/38 [==============================] - 0s 234us/step - loss: 0.5220 - accuracy: 0.8158\n",
      "Epoch 158/500\n",
      "38/38 [==============================] - 0s 169us/step - loss: 0.5170 - accuracy: 0.8158\n",
      "Epoch 159/500\n",
      "38/38 [==============================] - 0s 287us/step - loss: 0.5120 - accuracy: 0.8158\n",
      "Epoch 160/500\n"
     ]
    },
    {
     "name": "stdout",
     "output_type": "stream",
     "text": [
      "38/38 [==============================] - 0s 121us/step - loss: 0.5075 - accuracy: 0.8158\n",
      "Epoch 161/500\n",
      "38/38 [==============================] - 0s 168us/step - loss: 0.5027 - accuracy: 0.8158\n",
      "Epoch 162/500\n",
      "38/38 [==============================] - 0s 208us/step - loss: 0.4986 - accuracy: 0.8158\n",
      "Epoch 163/500\n",
      "38/38 [==============================] - 0s 134us/step - loss: 0.4935 - accuracy: 0.8158\n",
      "Epoch 164/500\n",
      "38/38 [==============================] - 0s 184us/step - loss: 0.4892 - accuracy: 0.8158\n",
      "Epoch 165/500\n",
      "38/38 [==============================] - 0s 143us/step - loss: 0.4850 - accuracy: 0.8158\n",
      "Epoch 166/500\n",
      "38/38 [==============================] - 0s 220us/step - loss: 0.4801 - accuracy: 0.8158\n",
      "Epoch 167/500\n",
      "38/38 [==============================] - 0s 140us/step - loss: 0.4762 - accuracy: 0.8158\n",
      "Epoch 168/500\n",
      "38/38 [==============================] - 0s 254us/step - loss: 0.4716 - accuracy: 0.8158\n",
      "Epoch 169/500\n",
      "38/38 [==============================] - 0s 125us/step - loss: 0.4677 - accuracy: 0.8158\n",
      "Epoch 170/500\n",
      "38/38 [==============================] - 0s 262us/step - loss: 0.4633 - accuracy: 0.8158\n",
      "Epoch 171/500\n",
      "38/38 [==============================] - 0s 225us/step - loss: 0.4591 - accuracy: 0.8158\n",
      "Epoch 172/500\n",
      "38/38 [==============================] - 0s 148us/step - loss: 0.4548 - accuracy: 0.8158\n",
      "Epoch 173/500\n",
      "38/38 [==============================] - 0s 286us/step - loss: 0.4502 - accuracy: 0.8158\n",
      "Epoch 174/500\n",
      "38/38 [==============================] - 0s 274us/step - loss: 0.4462 - accuracy: 0.8158\n",
      "Epoch 175/500\n",
      "38/38 [==============================] - 0s 174us/step - loss: 0.4419 - accuracy: 0.8158\n",
      "Epoch 176/500\n",
      "38/38 [==============================] - 0s 237us/step - loss: 0.4379 - accuracy: 0.8158\n",
      "Epoch 177/500\n",
      "38/38 [==============================] - 0s 262us/step - loss: 0.4338 - accuracy: 0.8158\n",
      "Epoch 178/500\n",
      "38/38 [==============================] - 0s 194us/step - loss: 0.4299 - accuracy: 0.8158\n",
      "Epoch 179/500\n",
      "38/38 [==============================] - 0s 197us/step - loss: 0.4262 - accuracy: 0.8158\n",
      "Epoch 180/500\n",
      "38/38 [==============================] - 0s 278us/step - loss: 0.4220 - accuracy: 0.8158\n",
      "Epoch 181/500\n",
      "38/38 [==============================] - 0s 189us/step - loss: 0.4173 - accuracy: 0.8158\n",
      "Epoch 182/500\n",
      "38/38 [==============================] - 0s 181us/step - loss: 0.4132 - accuracy: 0.8158\n",
      "Epoch 183/500\n",
      "38/38 [==============================] - 0s 261us/step - loss: 0.4093 - accuracy: 0.8158\n",
      "Epoch 184/500\n",
      "38/38 [==============================] - 0s 168us/step - loss: 0.4050 - accuracy: 0.8158\n",
      "Epoch 185/500\n",
      "38/38 [==============================] - 0s 205us/step - loss: 0.4021 - accuracy: 0.8158\n",
      "Epoch 186/500\n",
      "38/38 [==============================] - 0s 251us/step - loss: 0.3964 - accuracy: 0.8158\n",
      "Epoch 187/500\n",
      "38/38 [==============================] - 0s 159us/step - loss: 0.3925 - accuracy: 0.8684\n",
      "Epoch 188/500\n",
      "38/38 [==============================] - 0s 260us/step - loss: 0.3881 - accuracy: 0.8684\n",
      "Epoch 189/500\n",
      "38/38 [==============================] - 0s 245us/step - loss: 0.3852 - accuracy: 0.9211\n",
      "Epoch 190/500\n",
      "38/38 [==============================] - 0s 189us/step - loss: 0.3803 - accuracy: 0.9211\n",
      "Epoch 191/500\n",
      "38/38 [==============================] - 0s 184us/step - loss: 0.3768 - accuracy: 0.9211\n",
      "Epoch 192/500\n",
      "38/38 [==============================] - 0s 236us/step - loss: 0.3717 - accuracy: 0.9211\n",
      "Epoch 193/500\n",
      "38/38 [==============================] - 0s 144us/step - loss: 0.3692 - accuracy: 0.9211\n",
      "Epoch 194/500\n",
      "38/38 [==============================] - 0s 249us/step - loss: 0.3639 - accuracy: 0.9211\n",
      "Epoch 195/500\n",
      "38/38 [==============================] - 0s 147us/step - loss: 0.3593 - accuracy: 0.9211\n",
      "Epoch 196/500\n",
      "38/38 [==============================] - 0s 227us/step - loss: 0.3551 - accuracy: 0.9211\n",
      "Epoch 197/500\n",
      "38/38 [==============================] - 0s 193us/step - loss: 0.3501 - accuracy: 0.9211\n",
      "Epoch 198/500\n",
      "38/38 [==============================] - 0s 189us/step - loss: 0.3451 - accuracy: 0.9211\n",
      "Epoch 199/500\n",
      "38/38 [==============================] - 0s 307us/step - loss: 0.3403 - accuracy: 0.9211\n",
      "Epoch 200/500\n",
      "38/38 [==============================] - 0s 259us/step - loss: 0.3356 - accuracy: 0.9211\n",
      "Epoch 201/500\n",
      "38/38 [==============================] - 0s 149us/step - loss: 0.3311 - accuracy: 0.9211\n",
      "Epoch 202/500\n",
      "38/38 [==============================] - 0s 269us/step - loss: 0.3268 - accuracy: 0.9211\n",
      "Epoch 203/500\n",
      "38/38 [==============================] - 0s 148us/step - loss: 0.3216 - accuracy: 0.9211\n",
      "Epoch 204/500\n",
      "38/38 [==============================] - 0s 191us/step - loss: 0.3171 - accuracy: 0.9211\n",
      "Epoch 205/500\n",
      "38/38 [==============================] - 0s 304us/step - loss: 0.3132 - accuracy: 0.9211\n",
      "Epoch 206/500\n",
      "38/38 [==============================] - 0s 141us/step - loss: 0.3085 - accuracy: 0.9211\n",
      "Epoch 207/500\n",
      "38/38 [==============================] - 0s 210us/step - loss: 0.3049 - accuracy: 0.9211\n",
      "Epoch 208/500\n",
      "38/38 [==============================] - 0s 271us/step - loss: 0.3012 - accuracy: 0.9211\n",
      "Epoch 209/500\n",
      "38/38 [==============================] - 0s 174us/step - loss: 0.2979 - accuracy: 0.9211\n",
      "Epoch 210/500\n",
      "38/38 [==============================] - 0s 265us/step - loss: 0.2935 - accuracy: 0.9211\n",
      "Epoch 211/500\n",
      "38/38 [==============================] - 0s 205us/step - loss: 0.2898 - accuracy: 0.9211\n",
      "Epoch 212/500\n",
      "38/38 [==============================] - 0s 204us/step - loss: 0.2864 - accuracy: 0.9211\n",
      "Epoch 213/500\n",
      "38/38 [==============================] - 0s 274us/step - loss: 0.2835 - accuracy: 0.9211\n",
      "Epoch 214/500\n",
      "38/38 [==============================] - 0s 181us/step - loss: 0.2798 - accuracy: 0.9211\n",
      "Epoch 215/500\n",
      "38/38 [==============================] - 0s 169us/step - loss: 0.2770 - accuracy: 0.9211\n",
      "Epoch 216/500\n",
      "38/38 [==============================] - 0s 256us/step - loss: 0.2739 - accuracy: 0.9211\n",
      "Epoch 217/500\n",
      "38/38 [==============================] - 0s 155us/step - loss: 0.2705 - accuracy: 0.9211\n",
      "Epoch 218/500\n",
      "38/38 [==============================] - 0s 231us/step - loss: 0.2678 - accuracy: 0.9211\n",
      "Epoch 219/500\n",
      "38/38 [==============================] - 0s 258us/step - loss: 0.2653 - accuracy: 0.9211\n",
      "Epoch 220/500\n",
      "38/38 [==============================] - 0s 162us/step - loss: 0.2626 - accuracy: 0.9211\n",
      "Epoch 221/500\n",
      "38/38 [==============================] - 0s 285us/step - loss: 0.2590 - accuracy: 0.9211\n",
      "Epoch 222/500\n",
      "38/38 [==============================] - 0s 263us/step - loss: 0.2564 - accuracy: 0.9211\n",
      "Epoch 223/500\n",
      "38/38 [==============================] - 0s 158us/step - loss: 0.2548 - accuracy: 0.8947\n",
      "Epoch 224/500\n",
      "38/38 [==============================] - 0s 272us/step - loss: 0.2517 - accuracy: 0.9211\n",
      "Epoch 225/500\n",
      "38/38 [==============================] - 0s 270us/step - loss: 0.2491 - accuracy: 0.9211\n",
      "Epoch 226/500\n",
      "38/38 [==============================] - 0s 132us/step - loss: 0.2462 - accuracy: 0.9211\n",
      "Epoch 227/500\n",
      "38/38 [==============================] - 0s 271us/step - loss: 0.2450 - accuracy: 0.9211\n",
      "Epoch 228/500\n",
      "38/38 [==============================] - 0s 205us/step - loss: 0.2422 - accuracy: 0.9211\n",
      "Epoch 229/500\n",
      "38/38 [==============================] - 0s 163us/step - loss: 0.2408 - accuracy: 0.9211\n",
      "Epoch 230/500\n",
      "38/38 [==============================] - 0s 248us/step - loss: 0.2388 - accuracy: 0.9211\n",
      "Epoch 231/500\n",
      "38/38 [==============================] - 0s 139us/step - loss: 0.2363 - accuracy: 0.9211\n",
      "Epoch 232/500\n",
      "38/38 [==============================] - 0s 271us/step - loss: 0.2340 - accuracy: 0.9211\n",
      "Epoch 233/500\n",
      "38/38 [==============================] - 0s 134us/step - loss: 0.2316 - accuracy: 0.9211\n",
      "Epoch 234/500\n",
      "38/38 [==============================] - 0s 215us/step - loss: 0.2301 - accuracy: 0.9211\n",
      "Epoch 235/500\n",
      "38/38 [==============================] - 0s 153us/step - loss: 0.2265 - accuracy: 0.9211\n",
      "Epoch 236/500\n",
      "38/38 [==============================] - 0s 159us/step - loss: 0.2248 - accuracy: 0.9474\n",
      "Epoch 237/500\n",
      "38/38 [==============================] - 0s 240us/step - loss: 0.2239 - accuracy: 0.9211\n",
      "Epoch 238/500\n",
      "38/38 [==============================] - 0s 128us/step - loss: 0.2226 - accuracy: 0.9211\n",
      "Epoch 239/500\n",
      "38/38 [==============================] - 0s 216us/step - loss: 0.2205 - accuracy: 0.9211\n",
      "Epoch 240/500\n",
      "38/38 [==============================] - 0s 119us/step - loss: 0.2191 - accuracy: 0.9211\n",
      "Epoch 241/500\n",
      "38/38 [==============================] - 0s 156us/step - loss: 0.2171 - accuracy: 0.9211\n",
      "Epoch 242/500\n",
      "38/38 [==============================] - 0s 156us/step - loss: 0.2158 - accuracy: 0.9211\n",
      "Epoch 243/500\n",
      "38/38 [==============================] - 0s 216us/step - loss: 0.2141 - accuracy: 0.9211\n",
      "Epoch 244/500\n",
      "38/38 [==============================] - 0s 160us/step - loss: 0.2130 - accuracy: 0.9211\n",
      "Epoch 245/500\n",
      "38/38 [==============================] - 0s 311us/step - loss: 0.2107 - accuracy: 0.9211\n",
      "Epoch 246/500\n",
      "38/38 [==============================] - 0s 223us/step - loss: 0.2099 - accuracy: 0.9211\n",
      "Epoch 247/500\n",
      "38/38 [==============================] - 0s 180us/step - loss: 0.2088 - accuracy: 0.9211\n",
      "Epoch 248/500\n",
      "38/38 [==============================] - 0s 265us/step - loss: 0.2071 - accuracy: 0.9211\n",
      "Epoch 249/500\n",
      "38/38 [==============================] - 0s 180us/step - loss: 0.2066 - accuracy: 0.9211\n",
      "Epoch 250/500\n",
      "38/38 [==============================] - 0s 200us/step - loss: 0.2050 - accuracy: 0.9211\n",
      "Epoch 251/500\n",
      "38/38 [==============================] - 0s 269us/step - loss: 0.2034 - accuracy: 0.9211\n",
      "Epoch 252/500\n",
      "38/38 [==============================] - 0s 161us/step - loss: 0.2027 - accuracy: 0.9211\n",
      "Epoch 253/500\n",
      "38/38 [==============================] - 0s 187us/step - loss: 0.2010 - accuracy: 0.9211\n",
      "Epoch 254/500\n",
      "38/38 [==============================] - 0s 246us/step - loss: 0.1996 - accuracy: 0.9211\n",
      "Epoch 255/500\n",
      "38/38 [==============================] - 0s 147us/step - loss: 0.1987 - accuracy: 0.9211\n",
      "Epoch 256/500\n",
      "38/38 [==============================] - 0s 218us/step - loss: 0.1973 - accuracy: 0.9211\n",
      "Epoch 257/500\n",
      "38/38 [==============================] - 0s 255us/step - loss: 0.1979 - accuracy: 0.9211\n",
      "Epoch 258/500\n",
      "38/38 [==============================] - 0s 168us/step - loss: 0.1954 - accuracy: 0.9211\n",
      "Epoch 259/500\n",
      "38/38 [==============================] - 0s 277us/step - loss: 0.1941 - accuracy: 0.9211\n",
      "Epoch 260/500\n",
      "38/38 [==============================] - 0s 244us/step - loss: 0.1934 - accuracy: 0.9211\n",
      "Epoch 261/500\n",
      "38/38 [==============================] - 0s 148us/step - loss: 0.1925 - accuracy: 0.9211\n",
      "Epoch 262/500\n",
      "38/38 [==============================] - 0s 727us/step - loss: 0.1918 - accuracy: 0.9211\n",
      "Epoch 263/500\n",
      "38/38 [==============================] - 0s 163us/step - loss: 0.1912 - accuracy: 0.9211\n",
      "Epoch 264/500\n",
      "38/38 [==============================] - 0s 152us/step - loss: 0.1917 - accuracy: 0.9211\n",
      "Epoch 265/500\n",
      "38/38 [==============================] - 0s 281us/step - loss: 0.1896 - accuracy: 0.9211\n",
      "Epoch 266/500\n",
      "38/38 [==============================] - 0s 146us/step - loss: 0.1889 - accuracy: 0.9211\n",
      "Epoch 267/500\n",
      "38/38 [==============================] - 0s 221us/step - loss: 0.1872 - accuracy: 0.9211\n",
      "Epoch 268/500\n",
      "38/38 [==============================] - 0s 155us/step - loss: 0.1864 - accuracy: 0.9211\n",
      "Epoch 269/500\n",
      "38/38 [==============================] - 0s 202us/step - loss: 0.1857 - accuracy: 0.9211\n",
      "Epoch 270/500\n",
      "38/38 [==============================] - 0s 137us/step - loss: 0.1858 - accuracy: 0.9211\n",
      "Epoch 271/500\n",
      "38/38 [==============================] - 0s 190us/step - loss: 0.1842 - accuracy: 0.9211\n",
      "Epoch 272/500\n",
      "38/38 [==============================] - 0s 253us/step - loss: 0.1844 - accuracy: 0.9211\n",
      "Epoch 273/500\n",
      "38/38 [==============================] - 0s 183us/step - loss: 0.1830 - accuracy: 0.9211\n",
      "Epoch 274/500\n",
      "38/38 [==============================] - 0s 189us/step - loss: 0.1825 - accuracy: 0.9211\n",
      "Epoch 275/500\n",
      "38/38 [==============================] - 0s 268us/step - loss: 0.1812 - accuracy: 0.9211\n",
      "Epoch 276/500\n",
      "38/38 [==============================] - 0s 156us/step - loss: 0.1802 - accuracy: 0.9211\n",
      "Epoch 277/500\n",
      "38/38 [==============================] - 0s 170us/step - loss: 0.1796 - accuracy: 0.9211\n",
      "Epoch 278/500\n",
      "38/38 [==============================] - 0s 240us/step - loss: 0.1788 - accuracy: 0.9211\n",
      "Epoch 279/500\n",
      "38/38 [==============================] - 0s 171us/step - loss: 0.1777 - accuracy: 0.9211\n",
      "Epoch 280/500\n",
      "38/38 [==============================] - 0s 265us/step - loss: 0.1778 - accuracy: 0.9211\n",
      "Epoch 281/500\n",
      "38/38 [==============================] - 0s 163us/step - loss: 0.1768 - accuracy: 0.9211\n",
      "Epoch 282/500\n",
      "38/38 [==============================] - 0s 153us/step - loss: 0.1756 - accuracy: 0.9211\n",
      "Epoch 283/500\n",
      "38/38 [==============================] - 0s 205us/step - loss: 0.1754 - accuracy: 0.9211\n",
      "Epoch 284/500\n",
      "38/38 [==============================] - 0s 184us/step - loss: 0.1742 - accuracy: 0.9211\n",
      "Epoch 285/500\n",
      "38/38 [==============================] - 0s 247us/step - loss: 0.1735 - accuracy: 0.9211\n",
      "Epoch 286/500\n",
      "38/38 [==============================] - 0s 153us/step - loss: 0.1739 - accuracy: 0.9211\n",
      "Epoch 287/500\n",
      "38/38 [==============================] - 0s 209us/step - loss: 0.1732 - accuracy: 0.9211\n",
      "Epoch 288/500\n",
      "38/38 [==============================] - 0s 202us/step - loss: 0.1737 - accuracy: 0.9211\n",
      "Epoch 289/500\n",
      "38/38 [==============================] - 0s 185us/step - loss: 0.1734 - accuracy: 0.9211\n",
      "Epoch 290/500\n",
      "38/38 [==============================] - 0s 270us/step - loss: 0.1728 - accuracy: 0.9211\n",
      "Epoch 291/500\n",
      "38/38 [==============================] - 0s 151us/step - loss: 0.1713 - accuracy: 0.9211\n",
      "Epoch 292/500\n",
      "38/38 [==============================] - 0s 200us/step - loss: 0.1721 - accuracy: 0.9211\n",
      "Epoch 293/500\n",
      "38/38 [==============================] - 0s 177us/step - loss: 0.1707 - accuracy: 0.9211\n",
      "Epoch 294/500\n",
      "38/38 [==============================] - 0s 155us/step - loss: 0.1704 - accuracy: 0.9211\n",
      "Epoch 295/500\n",
      "38/38 [==============================] - 0s 266us/step - loss: 0.1704 - accuracy: 0.9211\n",
      "Epoch 296/500\n",
      "38/38 [==============================] - 0s 156us/step - loss: 0.1696 - accuracy: 0.9211\n",
      "Epoch 297/500\n",
      "38/38 [==============================] - 0s 266us/step - loss: 0.1686 - accuracy: 0.9211\n",
      "Epoch 298/500\n",
      "38/38 [==============================] - 0s 266us/step - loss: 0.1679 - accuracy: 0.9211\n",
      "Epoch 299/500\n",
      "38/38 [==============================] - 0s 164us/step - loss: 0.1679 - accuracy: 0.9211\n",
      "Epoch 300/500\n",
      "38/38 [==============================] - 0s 205us/step - loss: 0.1663 - accuracy: 0.9211\n",
      "Epoch 301/500\n",
      "38/38 [==============================] - 0s 234us/step - loss: 0.1666 - accuracy: 0.9211\n",
      "Epoch 302/500\n",
      "38/38 [==============================] - 0s 132us/step - loss: 0.1659 - accuracy: 0.9211\n",
      "Epoch 303/500\n",
      "38/38 [==============================] - 0s 243us/step - loss: 0.1656 - accuracy: 0.9211\n",
      "Epoch 304/500\n",
      "38/38 [==============================] - 0s 213us/step - loss: 0.1652 - accuracy: 0.9211\n",
      "Epoch 305/500\n",
      "38/38 [==============================] - 0s 155us/step - loss: 0.1655 - accuracy: 0.9211\n",
      "Epoch 306/500\n",
      "38/38 [==============================] - 0s 195us/step - loss: 0.1649 - accuracy: 0.9211\n",
      "Epoch 307/500\n",
      "38/38 [==============================] - 0s 152us/step - loss: 0.1654 - accuracy: 0.9211\n",
      "Epoch 308/500\n",
      "38/38 [==============================] - 0s 252us/step - loss: 0.1647 - accuracy: 0.8947\n",
      "Epoch 309/500\n",
      "38/38 [==============================] - 0s 135us/step - loss: 0.1633 - accuracy: 0.9211\n",
      "Epoch 310/500\n",
      "38/38 [==============================] - 0s 280us/step - loss: 0.1623 - accuracy: 0.9211\n",
      "Epoch 311/500\n",
      "38/38 [==============================] - 0s 168us/step - loss: 0.1627 - accuracy: 0.9211\n",
      "Epoch 312/500\n",
      "38/38 [==============================] - 0s 186us/step - loss: 0.1619 - accuracy: 0.9211\n",
      "Epoch 313/500\n",
      "38/38 [==============================] - 0s 266us/step - loss: 0.1620 - accuracy: 0.9211\n",
      "Epoch 314/500\n",
      "38/38 [==============================] - 0s 120us/step - loss: 0.1631 - accuracy: 0.9211\n",
      "Epoch 315/500\n",
      "38/38 [==============================] - 0s 253us/step - loss: 0.1625 - accuracy: 0.9211\n",
      "Epoch 316/500\n",
      "38/38 [==============================] - 0s 135us/step - loss: 0.1617 - accuracy: 0.9211\n",
      "Epoch 317/500\n",
      "38/38 [==============================] - 0s 258us/step - loss: 0.1610 - accuracy: 0.9211\n",
      "Epoch 318/500\n"
     ]
    },
    {
     "name": "stdout",
     "output_type": "stream",
     "text": [
      "38/38 [==============================] - 0s 249us/step - loss: 0.1591 - accuracy: 0.9211\n",
      "Epoch 319/500\n",
      "38/38 [==============================] - 0s 148us/step - loss: 0.1593 - accuracy: 0.9211\n",
      "Epoch 320/500\n",
      "38/38 [==============================] - 0s 221us/step - loss: 0.1588 - accuracy: 0.9211\n",
      "Epoch 321/500\n",
      "38/38 [==============================] - 0s 243us/step - loss: 0.1598 - accuracy: 0.9211\n",
      "Epoch 322/500\n",
      "38/38 [==============================] - 0s 167us/step - loss: 0.1600 - accuracy: 0.9211\n",
      "Epoch 323/500\n",
      "38/38 [==============================] - 0s 239us/step - loss: 0.1597 - accuracy: 0.9211\n",
      "Epoch 324/500\n",
      "38/38 [==============================] - 0s 238us/step - loss: 0.1582 - accuracy: 0.9211\n",
      "Epoch 325/500\n",
      "38/38 [==============================] - 0s 140us/step - loss: 0.1575 - accuracy: 0.9211\n",
      "Epoch 326/500\n",
      "38/38 [==============================] - 0s 278us/step - loss: 0.1581 - accuracy: 0.9211\n",
      "Epoch 327/500\n",
      "38/38 [==============================] - 0s 165us/step - loss: 0.1569 - accuracy: 0.9211\n",
      "Epoch 328/500\n",
      "38/38 [==============================] - 0s 195us/step - loss: 0.1568 - accuracy: 0.9211\n",
      "Epoch 329/500\n",
      "38/38 [==============================] - 0s 279us/step - loss: 0.1564 - accuracy: 0.9211\n",
      "Epoch 330/500\n",
      "38/38 [==============================] - 0s 167us/step - loss: 0.1561 - accuracy: 0.9211\n",
      "Epoch 331/500\n",
      "38/38 [==============================] - 0s 205us/step - loss: 0.1559 - accuracy: 0.9211\n",
      "Epoch 332/500\n",
      "38/38 [==============================] - 0s 250us/step - loss: 0.1564 - accuracy: 0.9211\n",
      "Epoch 333/500\n",
      "38/38 [==============================] - 0s 169us/step - loss: 0.1557 - accuracy: 0.9211\n",
      "Epoch 334/500\n",
      "38/38 [==============================] - 0s 192us/step - loss: 0.1553 - accuracy: 0.9211\n",
      "Epoch 335/500\n",
      "38/38 [==============================] - 0s 223us/step - loss: 0.1558 - accuracy: 0.9211\n",
      "Epoch 336/500\n",
      "38/38 [==============================] - 0s 172us/step - loss: 0.1548 - accuracy: 0.9211\n",
      "Epoch 337/500\n",
      "38/38 [==============================] - 0s 263us/step - loss: 0.1548 - accuracy: 0.9211\n",
      "Epoch 338/500\n",
      "38/38 [==============================] - 0s 198us/step - loss: 0.1545 - accuracy: 0.9211\n",
      "Epoch 339/500\n",
      "38/38 [==============================] - 0s 182us/step - loss: 0.1543 - accuracy: 0.9211\n",
      "Epoch 340/500\n",
      "38/38 [==============================] - 0s 291us/step - loss: 0.1541 - accuracy: 0.9211\n",
      "Epoch 341/500\n",
      "38/38 [==============================] - 0s 180us/step - loss: 0.1532 - accuracy: 0.9211\n",
      "Epoch 342/500\n",
      "38/38 [==============================] - 0s 175us/step - loss: 0.1522 - accuracy: 0.9211\n",
      "Epoch 343/500\n",
      "38/38 [==============================] - 0s 262us/step - loss: 0.1521 - accuracy: 0.9211\n",
      "Epoch 344/500\n",
      "38/38 [==============================] - 0s 206us/step - loss: 0.1532 - accuracy: 0.9211\n",
      "Epoch 345/500\n",
      "38/38 [==============================] - 0s 192us/step - loss: 0.1537 - accuracy: 0.9211\n",
      "Epoch 346/500\n",
      "38/38 [==============================] - 0s 256us/step - loss: 0.1568 - accuracy: 0.9211\n",
      "Epoch 347/500\n",
      "38/38 [==============================] - 0s 162us/step - loss: 0.1551 - accuracy: 0.9211\n",
      "Epoch 348/500\n",
      "38/38 [==============================] - 0s 219us/step - loss: 0.1527 - accuracy: 0.9211\n",
      "Epoch 349/500\n",
      "38/38 [==============================] - 0s 258us/step - loss: 0.1517 - accuracy: 0.9211\n",
      "Epoch 350/500\n",
      "38/38 [==============================] - 0s 155us/step - loss: 0.1515 - accuracy: 0.9211\n",
      "Epoch 351/500\n",
      "38/38 [==============================] - 0s 195us/step - loss: 0.1506 - accuracy: 0.9211\n",
      "Epoch 352/500\n",
      "38/38 [==============================] - 0s 230us/step - loss: 0.1509 - accuracy: 0.9211\n",
      "Epoch 353/500\n",
      "38/38 [==============================] - 0s 154us/step - loss: 0.1500 - accuracy: 0.9211\n",
      "Epoch 354/500\n",
      "38/38 [==============================] - 0s 259us/step - loss: 0.1504 - accuracy: 0.9211\n",
      "Epoch 355/500\n",
      "38/38 [==============================] - 0s 163us/step - loss: 0.1499 - accuracy: 0.9211\n",
      "Epoch 356/500\n",
      "38/38 [==============================] - 0s 201us/step - loss: 0.1502 - accuracy: 0.9211\n",
      "Epoch 357/500\n",
      "38/38 [==============================] - 0s 258us/step - loss: 0.1497 - accuracy: 0.9211\n",
      "Epoch 358/500\n",
      "38/38 [==============================] - 0s 154us/step - loss: 0.1493 - accuracy: 0.9211\n",
      "Epoch 359/500\n",
      "38/38 [==============================] - 0s 189us/step - loss: 0.1490 - accuracy: 0.9211\n",
      "Epoch 360/500\n",
      "38/38 [==============================] - 0s 252us/step - loss: 0.1490 - accuracy: 0.9211\n",
      "Epoch 361/500\n",
      "38/38 [==============================] - 0s 155us/step - loss: 0.1489 - accuracy: 0.9211\n",
      "Epoch 362/500\n",
      "38/38 [==============================] - 0s 241us/step - loss: 0.1495 - accuracy: 0.9211\n",
      "Epoch 363/500\n",
      "38/38 [==============================] - 0s 214us/step - loss: 0.1496 - accuracy: 0.9211\n",
      "Epoch 364/500\n",
      "38/38 [==============================] - 0s 181us/step - loss: 0.1503 - accuracy: 0.9211\n",
      "Epoch 365/500\n",
      "38/38 [==============================] - 0s 265us/step - loss: 0.1496 - accuracy: 0.9211\n",
      "Epoch 366/500\n",
      "38/38 [==============================] - 0s 185us/step - loss: 0.1488 - accuracy: 0.9211\n",
      "Epoch 367/500\n",
      "38/38 [==============================] - 0s 179us/step - loss: 0.1489 - accuracy: 0.9211\n",
      "Epoch 368/500\n",
      "38/38 [==============================] - 0s 283us/step - loss: 0.1486 - accuracy: 0.9211\n",
      "Epoch 369/500\n",
      "38/38 [==============================] - 0s 258us/step - loss: 0.1479 - accuracy: 0.9211\n",
      "Epoch 370/500\n",
      "38/38 [==============================] - 0s 153us/step - loss: 0.1477 - accuracy: 0.9211\n",
      "Epoch 371/500\n",
      "38/38 [==============================] - 0s 216us/step - loss: 0.1480 - accuracy: 0.9211\n",
      "Epoch 372/500\n",
      "38/38 [==============================] - 0s 213us/step - loss: 0.1473 - accuracy: 0.9211\n",
      "Epoch 373/500\n",
      "38/38 [==============================] - 0s 193us/step - loss: 0.1468 - accuracy: 0.9211\n",
      "Epoch 374/500\n",
      "38/38 [==============================] - 0s 281us/step - loss: 0.1475 - accuracy: 0.9211\n",
      "Epoch 375/500\n",
      "38/38 [==============================] - 0s 222us/step - loss: 0.1465 - accuracy: 0.9211\n",
      "Epoch 376/500\n",
      "38/38 [==============================] - 0s 162us/step - loss: 0.1468 - accuracy: 0.9211\n",
      "Epoch 377/500\n",
      "38/38 [==============================] - 0s 234us/step - loss: 0.1467 - accuracy: 0.9211\n",
      "Epoch 378/500\n",
      "38/38 [==============================] - 0s 156us/step - loss: 0.1475 - accuracy: 0.9211\n",
      "Epoch 379/500\n",
      "38/38 [==============================] - 0s 225us/step - loss: 0.1486 - accuracy: 0.9211\n",
      "Epoch 380/500\n",
      "38/38 [==============================] - 0s 267us/step - loss: 0.1477 - accuracy: 0.9211\n",
      "Epoch 381/500\n",
      "38/38 [==============================] - 0s 181us/step - loss: 0.1464 - accuracy: 0.9211\n",
      "Epoch 382/500\n",
      "38/38 [==============================] - 0s 196us/step - loss: 0.1460 - accuracy: 0.9211\n",
      "Epoch 383/500\n",
      "38/38 [==============================] - 0s 267us/step - loss: 0.1466 - accuracy: 0.8947\n",
      "Epoch 384/500\n",
      "38/38 [==============================] - 0s 144us/step - loss: 0.1453 - accuracy: 0.9211\n",
      "Epoch 385/500\n",
      "38/38 [==============================] - 0s 205us/step - loss: 0.1450 - accuracy: 0.9211\n",
      "Epoch 386/500\n",
      "38/38 [==============================] - 0s 256us/step - loss: 0.1451 - accuracy: 0.8947\n",
      "Epoch 387/500\n",
      "38/38 [==============================] - 0s 161us/step - loss: 0.1449 - accuracy: 0.8947\n",
      "Epoch 388/500\n",
      "38/38 [==============================] - 0s 240us/step - loss: 0.1444 - accuracy: 0.9211\n",
      "Epoch 389/500\n",
      "38/38 [==============================] - 0s 167us/step - loss: 0.1444 - accuracy: 0.9211\n",
      "Epoch 390/500\n",
      "38/38 [==============================] - 0s 187us/step - loss: 0.1448 - accuracy: 0.9211\n",
      "Epoch 391/500\n",
      "38/38 [==============================] - 0s 234us/step - loss: 0.1441 - accuracy: 0.9211\n",
      "Epoch 392/500\n",
      "38/38 [==============================] - 0s 193us/step - loss: 0.1443 - accuracy: 0.9211\n",
      "Epoch 393/500\n",
      "38/38 [==============================] - 0s 221us/step - loss: 0.1447 - accuracy: 0.8947\n",
      "Epoch 394/500\n",
      "38/38 [==============================] - 0s 280us/step - loss: 0.1443 - accuracy: 0.9211\n",
      "Epoch 395/500\n",
      "38/38 [==============================] - 0s 162us/step - loss: 0.1440 - accuracy: 0.9211\n",
      "Epoch 396/500\n",
      "38/38 [==============================] - 0s 183us/step - loss: 0.1440 - accuracy: 0.9211\n",
      "Epoch 397/500\n",
      "38/38 [==============================] - 0s 248us/step - loss: 0.1441 - accuracy: 0.9211\n",
      "Epoch 398/500\n",
      "38/38 [==============================] - 0s 145us/step - loss: 0.1432 - accuracy: 0.9211\n",
      "Epoch 399/500\n",
      "38/38 [==============================] - 0s 271us/step - loss: 0.1439 - accuracy: 0.9211\n",
      "Epoch 400/500\n",
      "38/38 [==============================] - 0s 255us/step - loss: 0.1443 - accuracy: 0.9211\n",
      "Epoch 401/500\n",
      "38/38 [==============================] - 0s 164us/step - loss: 0.1453 - accuracy: 0.9211\n",
      "Epoch 402/500\n",
      "38/38 [==============================] - 0s 325us/step - loss: 0.1432 - accuracy: 0.9211\n",
      "Epoch 403/500\n",
      "38/38 [==============================] - 0s 213us/step - loss: 0.1447 - accuracy: 0.8947\n",
      "Epoch 404/500\n",
      "38/38 [==============================] - 0s 188us/step - loss: 0.1427 - accuracy: 0.9211\n",
      "Epoch 405/500\n",
      "38/38 [==============================] - 0s 247us/step - loss: 0.1427 - accuracy: 0.9211\n",
      "Epoch 406/500\n",
      "38/38 [==============================] - 0s 218us/step - loss: 0.1426 - accuracy: 0.9211\n",
      "Epoch 407/500\n",
      "38/38 [==============================] - 0s 169us/step - loss: 0.1427 - accuracy: 0.9211\n",
      "Epoch 408/500\n",
      "38/38 [==============================] - 0s 244us/step - loss: 0.1426 - accuracy: 0.9211\n",
      "Epoch 409/500\n",
      "38/38 [==============================] - 0s 150us/step - loss: 0.1425 - accuracy: 0.9211\n",
      "Epoch 410/500\n",
      "38/38 [==============================] - 0s 231us/step - loss: 0.1424 - accuracy: 0.9211\n",
      "Epoch 411/500\n",
      "38/38 [==============================] - 0s 230us/step - loss: 0.1429 - accuracy: 0.9211\n",
      "Epoch 412/500\n",
      "38/38 [==============================] - 0s 154us/step - loss: 0.1418 - accuracy: 0.9211\n",
      "Epoch 413/500\n",
      "38/38 [==============================] - 0s 234us/step - loss: 0.1425 - accuracy: 0.9211\n",
      "Epoch 414/500\n",
      "38/38 [==============================] - 0s 185us/step - loss: 0.1415 - accuracy: 0.9211\n",
      "Epoch 415/500\n",
      "38/38 [==============================] - 0s 196us/step - loss: 0.1418 - accuracy: 0.9211\n",
      "Epoch 416/500\n",
      "38/38 [==============================] - 0s 257us/step - loss: 0.1408 - accuracy: 0.9211\n",
      "Epoch 417/500\n",
      "38/38 [==============================] - 0s 168us/step - loss: 0.1413 - accuracy: 0.9211\n",
      "Epoch 418/500\n",
      "38/38 [==============================] - 0s 170us/step - loss: 0.1412 - accuracy: 0.9211\n",
      "Epoch 419/500\n",
      "38/38 [==============================] - 0s 274us/step - loss: 0.1417 - accuracy: 0.9211\n",
      "Epoch 420/500\n",
      "38/38 [==============================] - 0s 169us/step - loss: 0.1413 - accuracy: 0.9211\n",
      "Epoch 421/500\n",
      "38/38 [==============================] - 0s 214us/step - loss: 0.1410 - accuracy: 0.9211\n",
      "Epoch 422/500\n",
      "38/38 [==============================] - 0s 279us/step - loss: 0.1414 - accuracy: 0.9211\n",
      "Epoch 423/500\n",
      "38/38 [==============================] - 0s 170us/step - loss: 0.1422 - accuracy: 0.9211\n",
      "Epoch 424/500\n",
      "38/38 [==============================] - 0s 164us/step - loss: 0.1407 - accuracy: 0.8947\n",
      "Epoch 425/500\n",
      "38/38 [==============================] - 0s 233us/step - loss: 0.1398 - accuracy: 0.9211\n",
      "Epoch 426/500\n",
      "38/38 [==============================] - 0s 172us/step - loss: 0.1408 - accuracy: 0.9211\n",
      "Epoch 427/500\n",
      "38/38 [==============================] - 0s 229us/step - loss: 0.1403 - accuracy: 0.9211\n",
      "Epoch 428/500\n",
      "38/38 [==============================] - 0s 238us/step - loss: 0.1403 - accuracy: 0.9211\n",
      "Epoch 429/500\n",
      "38/38 [==============================] - 0s 164us/step - loss: 0.1401 - accuracy: 0.9211\n",
      "Epoch 430/500\n",
      "38/38 [==============================] - 0s 261us/step - loss: 0.1400 - accuracy: 0.9211\n",
      "Epoch 431/500\n",
      "38/38 [==============================] - 0s 194us/step - loss: 0.1399 - accuracy: 0.9211\n",
      "Epoch 432/500\n",
      "38/38 [==============================] - 0s 179us/step - loss: 0.1412 - accuracy: 0.9211\n",
      "Epoch 433/500\n",
      "38/38 [==============================] - 0s 259us/step - loss: 0.1408 - accuracy: 0.9211\n",
      "Epoch 434/500\n",
      "38/38 [==============================] - 0s 197us/step - loss: 0.1404 - accuracy: 0.9211\n",
      "Epoch 435/500\n",
      "38/38 [==============================] - 0s 177us/step - loss: 0.1405 - accuracy: 0.9211\n",
      "Epoch 436/500\n",
      "38/38 [==============================] - 0s 226us/step - loss: 0.1396 - accuracy: 0.9211\n",
      "Epoch 437/500\n",
      "38/38 [==============================] - 0s 146us/step - loss: 0.1390 - accuracy: 0.9211\n",
      "Epoch 438/500\n",
      "38/38 [==============================] - 0s 273us/step - loss: 0.1390 - accuracy: 0.9211\n",
      "Epoch 439/500\n",
      "38/38 [==============================] - 0s 183us/step - loss: 0.1391 - accuracy: 0.9211\n",
      "Epoch 440/500\n",
      "38/38 [==============================] - 0s 160us/step - loss: 0.1394 - accuracy: 0.9211\n",
      "Epoch 441/500\n",
      "38/38 [==============================] - 0s 242us/step - loss: 0.1391 - accuracy: 0.9211\n",
      "Epoch 442/500\n",
      "38/38 [==============================] - 0s 159us/step - loss: 0.1401 - accuracy: 0.9211\n",
      "Epoch 443/500\n",
      "38/38 [==============================] - 0s 273us/step - loss: 0.1405 - accuracy: 0.9211\n",
      "Epoch 444/500\n",
      "38/38 [==============================] - 0s 270us/step - loss: 0.1407 - accuracy: 0.9211\n",
      "Epoch 445/500\n",
      "38/38 [==============================] - 0s 169us/step - loss: 0.1404 - accuracy: 0.9211\n",
      "Epoch 446/500\n",
      "38/38 [==============================] - 0s 251us/step - loss: 0.1405 - accuracy: 0.9211\n",
      "Epoch 447/500\n",
      "38/38 [==============================] - 0s 145us/step - loss: 0.1401 - accuracy: 0.9211\n",
      "Epoch 448/500\n",
      "38/38 [==============================] - 0s 184us/step - loss: 0.1397 - accuracy: 0.9211\n",
      "Epoch 449/500\n",
      "38/38 [==============================] - 0s 216us/step - loss: 0.1399 - accuracy: 0.9211\n",
      "Epoch 450/500\n",
      "38/38 [==============================] - 0s 167us/step - loss: 0.1396 - accuracy: 0.9211\n",
      "Epoch 451/500\n",
      "38/38 [==============================] - 0s 280us/step - loss: 0.1379 - accuracy: 0.9211\n",
      "Epoch 452/500\n",
      "38/38 [==============================] - 0s 352us/step - loss: 0.1387 - accuracy: 0.9211\n",
      "Epoch 453/500\n",
      "38/38 [==============================] - 0s 439us/step - loss: 0.1378 - accuracy: 0.9211\n",
      "Epoch 454/500\n",
      "38/38 [==============================] - 0s 353us/step - loss: 0.1400 - accuracy: 0.9211\n",
      "Epoch 455/500\n",
      "38/38 [==============================] - 0s 289us/step - loss: 0.1388 - accuracy: 0.9211\n",
      "Epoch 456/500\n",
      "38/38 [==============================] - 0s 170us/step - loss: 0.1387 - accuracy: 0.9211\n",
      "Epoch 457/500\n",
      "38/38 [==============================] - 0s 203us/step - loss: 0.1386 - accuracy: 0.9211\n",
      "Epoch 458/500\n",
      "38/38 [==============================] - 0s 246us/step - loss: 0.1402 - accuracy: 0.9211\n",
      "Epoch 459/500\n",
      "38/38 [==============================] - 0s 355us/step - loss: 0.1390 - accuracy: 0.9211\n",
      "Epoch 460/500\n",
      "38/38 [==============================] - 0s 281us/step - loss: 0.1391 - accuracy: 0.8947\n",
      "Epoch 461/500\n",
      "38/38 [==============================] - 0s 345us/step - loss: 0.1388 - accuracy: 0.9211\n",
      "Epoch 462/500\n",
      "38/38 [==============================] - 0s 353us/step - loss: 0.1389 - accuracy: 0.9211\n",
      "Epoch 463/500\n",
      "38/38 [==============================] - 0s 236us/step - loss: 0.1389 - accuracy: 0.9211\n",
      "Epoch 464/500\n",
      "38/38 [==============================] - 0s 179us/step - loss: 0.1385 - accuracy: 0.9211\n",
      "Epoch 465/500\n",
      "38/38 [==============================] - 0s 284us/step - loss: 0.1376 - accuracy: 0.9211\n",
      "Epoch 466/500\n",
      "38/38 [==============================] - 0s 300us/step - loss: 0.1372 - accuracy: 0.9211\n",
      "Epoch 467/500\n",
      "38/38 [==============================] - 0s 142us/step - loss: 0.1373 - accuracy: 0.9211\n",
      "Epoch 468/500\n",
      "38/38 [==============================] - 0s 256us/step - loss: 0.1371 - accuracy: 0.9211\n",
      "Epoch 469/500\n",
      "38/38 [==============================] - 0s 186us/step - loss: 0.1373 - accuracy: 0.9211\n",
      "Epoch 470/500\n",
      "38/38 [==============================] - 0s 164us/step - loss: 0.1363 - accuracy: 0.9474\n",
      "Epoch 471/500\n",
      "38/38 [==============================] - 0s 242us/step - loss: 0.1361 - accuracy: 0.9211\n",
      "Epoch 472/500\n",
      "38/38 [==============================] - 0s 138us/step - loss: 0.1369 - accuracy: 0.9211\n",
      "Epoch 473/500\n",
      "38/38 [==============================] - 0s 216us/step - loss: 0.1373 - accuracy: 0.9211\n",
      "Epoch 474/500\n",
      "38/38 [==============================] - 0s 142us/step - loss: 0.1376 - accuracy: 0.9211\n",
      "Epoch 475/500\n",
      "38/38 [==============================] - 0s 173us/step - loss: 0.1370 - accuracy: 0.9211\n",
      "Epoch 476/500\n"
     ]
    },
    {
     "name": "stdout",
     "output_type": "stream",
     "text": [
      "38/38 [==============================] - 0s 198us/step - loss: 0.1371 - accuracy: 0.9211\n",
      "Epoch 477/500\n",
      "38/38 [==============================] - 0s 164us/step - loss: 0.1371 - accuracy: 0.9211\n",
      "Epoch 478/500\n",
      "38/38 [==============================] - 0s 249us/step - loss: 0.1376 - accuracy: 0.9211\n",
      "Epoch 479/500\n",
      "38/38 [==============================] - 0s 131us/step - loss: 0.1372 - accuracy: 0.9211\n",
      "Epoch 480/500\n",
      "38/38 [==============================] - 0s 241us/step - loss: 0.1376 - accuracy: 0.8947\n",
      "Epoch 481/500\n",
      "38/38 [==============================] - 0s 168us/step - loss: 0.1383 - accuracy: 0.8947\n",
      "Epoch 482/500\n",
      "38/38 [==============================] - 0s 209us/step - loss: 0.1368 - accuracy: 0.9211\n",
      "Epoch 483/500\n",
      "38/38 [==============================] - 0s 287us/step - loss: 0.1371 - accuracy: 0.8684\n",
      "Epoch 484/500\n",
      "38/38 [==============================] - 0s 182us/step - loss: 0.1372 - accuracy: 0.9211\n",
      "Epoch 485/500\n",
      "38/38 [==============================] - 0s 196us/step - loss: 0.1361 - accuracy: 0.9211\n",
      "Epoch 486/500\n",
      "38/38 [==============================] - 0s 299us/step - loss: 0.1360 - accuracy: 0.9211\n",
      "Epoch 487/500\n",
      "38/38 [==============================] - 0s 207us/step - loss: 0.1360 - accuracy: 0.9211\n",
      "Epoch 488/500\n",
      "38/38 [==============================] - 0s 212us/step - loss: 0.1360 - accuracy: 0.9211\n",
      "Epoch 489/500\n",
      "38/38 [==============================] - 0s 226us/step - loss: 0.1363 - accuracy: 0.9211\n",
      "Epoch 490/500\n",
      "38/38 [==============================] - 0s 261us/step - loss: 0.1357 - accuracy: 0.9211\n",
      "Epoch 491/500\n",
      "38/38 [==============================] - 0s 248us/step - loss: 0.1365 - accuracy: 0.9211\n",
      "Epoch 492/500\n",
      "38/38 [==============================] - 0s 217us/step - loss: 0.1363 - accuracy: 0.9211\n",
      "Epoch 493/500\n",
      "38/38 [==============================] - 0s 298us/step - loss: 0.1367 - accuracy: 0.9211\n",
      "Epoch 494/500\n",
      "38/38 [==============================] - 0s 356us/step - loss: 0.1370 - accuracy: 0.9211\n",
      "Epoch 495/500\n",
      "38/38 [==============================] - 0s 377us/step - loss: 0.1371 - accuracy: 0.9211\n",
      "Epoch 496/500\n",
      "38/38 [==============================] - 0s 648us/step - loss: 0.1371 - accuracy: 0.9211\n",
      "Epoch 497/500\n",
      "38/38 [==============================] - 0s 219us/step - loss: 0.1384 - accuracy: 0.9211\n",
      "Epoch 498/500\n",
      "38/38 [==============================] - 0s 228us/step - loss: 0.1366 - accuracy: 0.9211\n",
      "Epoch 499/500\n",
      "38/38 [==============================] - 0s 244us/step - loss: 0.1362 - accuracy: 0.9211\n",
      "Epoch 500/500\n",
      "38/38 [==============================] - 0s 180us/step - loss: 0.1369 - accuracy: 0.9211\n"
     ]
    },
    {
     "data": {
      "text/plain": [
       "<keras.callbacks.callbacks.History at 0x7f576058ea90>"
      ]
     },
     "execution_count": 49,
     "metadata": {},
     "output_type": "execute_result"
    }
   ],
   "source": [
    "classifier_nn.fit(X,y_ohe, batch_size = 16, epochs = 500)"
   ]
  },
  {
   "cell_type": "code",
   "execution_count": 52,
   "metadata": {},
   "outputs": [
    {
     "data": {
      "text/plain": [
       "array([5, 3, 6, 2, 6, 4, 3, 0, 3, 1, 4, 2, 4, 2, 2, 3, 4, 0, 3, 3, 6, 0,\n",
       "       1, 4, 5, 2, 5, 0, 0, 1, 3, 1, 6, 4, 4, 2, 1, 3])"
      ]
     },
     "execution_count": 52,
     "metadata": {},
     "output_type": "execute_result"
    }
   ],
   "source": [
    "Y"
   ]
  },
  {
   "cell_type": "code",
   "execution_count": 85,
   "metadata": {},
   "outputs": [],
   "source": [
    "s = \"Hello\"\n",
    "que = re.sub('[^a-zA-Z]', ' ', s)\n",
    "que = que.lower().split()\n",
    "que = [ps.stem(word) for word in que if not word in set(stopwords.words('english'))]\n",
    "que = ' '.join(que)\n",
    "test = cv.transform([que]).toarray()\n",
    "ans = classifier_nn.predict_classes(test)"
   ]
  },
  {
   "cell_type": "code",
   "execution_count": 86,
   "metadata": {},
   "outputs": [
    {
     "data": {
      "text/plain": [
       "array([3])"
      ]
     },
     "execution_count": 86,
     "metadata": {},
     "output_type": "execute_result"
    }
   ],
   "source": [
    "ans"
   ]
  },
  {
   "cell_type": "code",
   "execution_count": 55,
   "metadata": {},
   "outputs": [
    {
     "data": {
      "text/plain": [
       "0"
      ]
     },
     "execution_count": 55,
     "metadata": {},
     "output_type": "execute_result"
    }
   ],
   "source": [
    "np.argmax(ans, axis=None, out=None)"
   ]
  },
  {
   "cell_type": "code",
   "execution_count": 90,
   "metadata": {},
   "outputs": [
    {
     "data": {
      "text/plain": [
       "'greeting'"
      ]
     },
     "execution_count": 90,
     "metadata": {},
     "output_type": "execute_result"
    }
   ],
   "source": [
    "lb_y.inverse_transform(ans)[0]"
   ]
  },
  {
   "cell_type": "code",
   "execution_count": 60,
   "metadata": {},
   "outputs": [],
   "source": [
    "def create_response(que):\n",
    "    if que == \"quit\" or que == \"exit\":\n",
    "        print(\"Bye see you soon\")\n",
    "        return False\n",
    "    que = re.sub('[^a-zA-Z]', ' ', que)\n",
    "    que = que.lower().split()\n",
    "    que = [ps.stem(word) for word in que if not word in set(stopwords.words('english'))]\n",
    "    que = ' '.join(que)\n",
    "    test = cv.transform([que]).toarray()\n",
    "    ans = classifier_nn.predict_classes(test)\n",
    "    ans = lb_y.inverse_transform(ans)[0]\n",
    "    print(\"samvadCAbot--> \",end=\" \")\n",
    "    a = False\n",
    "    for item in responses['respones']:\n",
    "        if item['tag'] == ans:\n",
    "            l = random.randint(0,(len(item['responses'])-1))\n",
    "            a = True\n",
    "            print(item['responses'][l])\n",
    "    if not a:\n",
    "        print(\"Sorry couldn't get you,please repeat\")\n",
    "        \n",
    "    return True"
   ]
  },
  {
   "cell_type": "code",
   "execution_count": 61,
   "metadata": {},
   "outputs": [],
   "source": [
    "def chat():\n",
    "    a = True\n",
    "    print(\"samvadCAbot--> Hello there!How can I help you\")\n",
    "    while a:\n",
    "        inp = input(\"Enter (type quit to exit)\")\n",
    "        a = create_response(inp)"
   ]
  },
  {
   "cell_type": "code",
   "execution_count": 59,
   "metadata": {},
   "outputs": [
    {
     "name": "stdout",
     "output_type": "stream",
     "text": [
      "samvadCAbot--> Hello there!How can I help you\n",
      "Enter (type quit to exit)hi\n",
      "samvadCAbot-->  Good to see you again!\n",
      "Enter (type quit to exit)hello\n",
      "samvadCAbot-->  Hello!\n",
      "Enter (type quit to exit)hy\n",
      "samvadCAbot-->  Good to see you again!\n",
      "Enter (type quit to exit)hey\n",
      "samvadCAbot-->  Hello!\n",
      "Enter (type quit to exit)how are you\n",
      "samvadCAbot-->  Hi there, how can I help?\n",
      "Enter (type quit to exit)whats up\n",
      "samvadCAbot-->  Good to see you again!\n",
      "Enter (type quit to exit)how are you\n",
      "samvadCAbot-->  Hello!\n",
      "Enter (type quit to exit)how are you\n",
      "samvadCAbot-->  Hello!\n",
      "Enter (type quit to exit)how are you\n",
      "samvadCAbot-->  Good to see you again!\n",
      "Enter (type quit to exit)name\n",
      "samvadCAbot-->  You can call me Samvad_CA.\n",
      "Enter (type quit to exit)who is albert ein\n",
      "samvadCAbot-->  Good to see you again!\n",
      "Enter (type quit to exit)who is albert eninsten\n",
      "samvadCAbot-->  Hello!\n",
      "Enter (type quit to exit)exit\n",
      "samvadCAbot-->  Good to see you again!\n",
      "Enter (type quit to exit)quit\n",
      "Bye see you soon\n"
     ]
    }
   ],
   "source": [
    "chat()"
   ]
  },
  {
   "cell_type": "markdown",
   "metadata": {},
   "source": [
    "<p><b>We will create a method to get the probability of the classes question belong too.And then we will set a thresold for getting better result</b></p>"
   ]
  },
  {
   "cell_type": "code",
   "execution_count": 98,
   "metadata": {},
   "outputs": [],
   "source": [
    "s = \"Hello\"\n",
    "que = re.sub('[^a-zA-Z]', ' ', s)\n",
    "que = que.lower().split()\n",
    "que = [ps.stem(word) for word in que if not word in set(stopwords.words('english'))]\n",
    "que = ' '.join(que)\n",
    "test = cv.transform([que]).toarray()\n",
    "ans = classifier_nn.predict_proba(test)"
   ]
  },
  {
   "cell_type": "code",
   "execution_count": 99,
   "metadata": {},
   "outputs": [
    {
     "data": {
      "text/plain": [
       "array([[1.2660275e-05, 2.8450952e-03, 2.9213747e-05, 9.9269217e-01,\n",
       "        1.6307300e-08, 1.1171482e-03, 3.3038054e-03]], dtype=float32)"
      ]
     },
     "execution_count": 99,
     "metadata": {},
     "output_type": "execute_result"
    }
   ],
   "source": [
    "ans"
   ]
  },
  {
   "cell_type": "code",
   "execution_count": 100,
   "metadata": {},
   "outputs": [],
   "source": [
    "ans = np.argmax(ans)"
   ]
  },
  {
   "cell_type": "code",
   "execution_count": 104,
   "metadata": {},
   "outputs": [
    {
     "data": {
      "text/plain": [
       "array([3])"
      ]
     },
     "execution_count": 104,
     "metadata": {},
     "output_type": "execute_result"
    }
   ],
   "source": [
    "np.asarray([ans])"
   ]
  },
  {
   "cell_type": "code",
   "execution_count": 106,
   "metadata": {},
   "outputs": [
    {
     "data": {
      "text/plain": [
       "'greeting'"
      ]
     },
     "execution_count": 106,
     "metadata": {},
     "output_type": "execute_result"
    }
   ],
   "source": [
    "lb_y.inverse_transform(np.asarray([ans]))[0]"
   ]
  },
  {
   "cell_type": "code",
   "execution_count": 111,
   "metadata": {},
   "outputs": [],
   "source": [
    "def create_response_prob(que):\n",
    "    if que == \"quit\" or que == \"exit\":\n",
    "        print(\"Bye see you soon\")\n",
    "        return False\n",
    "    print(\"samvadCAbot--> \",end=\" \")\n",
    "    #Preprocess the text\n",
    "    que = re.sub('[^a-zA-Z]', ' ', que)\n",
    "    que = que.lower().split()\n",
    "    que = [ps.stem(word) for word in que if not word in set(stopwords.words('english'))]\n",
    "    que = ' '.join(que)\n",
    "    test = cv.transform([que]).toarray()\n",
    "    #get the proprobaliltiy of each class\n",
    "    ans = classifier_nn.predict_proba(test)\n",
    "    a = False\n",
    "    if np.argmax(ans) > 0.7:\n",
    "        ans = np.argmax(ans)\n",
    "        ans= lb_y.inverse_transform(np.asarray([ans]))[0]\n",
    "        for item in responses['respones']:\n",
    "            if item['tag'] == ans:\n",
    "                l = random.randint(0,(len(item['responses'])-1))\n",
    "                a = True\n",
    "                print(item['responses'][l])\n",
    "    if not a:\n",
    "        print(\"Sorry couldn't get you,please repeat\")\n",
    "        \n",
    "    return True"
   ]
  },
  {
   "cell_type": "code",
   "execution_count": 112,
   "metadata": {},
   "outputs": [],
   "source": [
    "def chat_prob():\n",
    "    a = True\n",
    "    print(\"samvadCAbot--> Hello there!How can I help you\")\n",
    "    while a:\n",
    "        inp = input(\"Enter (type quit to exit)\")\n",
    "        a = create_response_prob(inp)"
   ]
  },
  {
   "cell_type": "code",
   "execution_count": 113,
   "metadata": {},
   "outputs": [
    {
     "name": "stdout",
     "output_type": "stream",
     "text": [
      "samvadCAbot--> Hello there!How can I help you\n",
      "Enter (type quit to exit)wiesle hagi maro\n",
      "samvadCAbot-->  Hello!\n",
      "Enter (type quit to exit)how you doing\n",
      "samvadCAbot-->  Good to see you again!\n",
      "Enter (type quit to exit)na ji na\n",
      "samvadCAbot-->  Good to see you again!\n",
      "Enter (type quit to exit)quit\n",
      "Bye see you soon\n"
     ]
    }
   ],
   "source": [
    "chat_prob()"
   ]
  },
  {
   "cell_type": "code",
   "execution_count": null,
   "metadata": {},
   "outputs": [],
   "source": []
  }
 ],
 "metadata": {
  "kernelspec": {
   "display_name": "Python 3",
   "language": "python",
   "name": "python3"
  },
  "language_info": {
   "codemirror_mode": {
    "name": "ipython",
    "version": 3
   },
   "file_extension": ".py",
   "mimetype": "text/x-python",
   "name": "python",
   "nbconvert_exporter": "python",
   "pygments_lexer": "ipython3",
   "version": "3.8.2"
  }
 },
 "nbformat": 4,
 "nbformat_minor": 4
}
